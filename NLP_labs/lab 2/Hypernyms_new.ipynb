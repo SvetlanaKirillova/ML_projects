{
  "nbformat": 4,
  "nbformat_minor": 0,
  "metadata": {
    "kernelspec": {
      "name": "python3",
      "display_name": "Python 3"
    },
    "language_info": {
      "codemirror_mode": {
        "name": "ipython",
        "version": 3
      },
      "file_extension": ".py",
      "mimetype": "text/x-python",
      "name": "python",
      "nbconvert_exporter": "python",
      "pygments_lexer": "ipython3",
      "version": "3.6.7"
    },
    "colab": {
      "name": "Hypernyms.ipynb",
      "provenance": [],
      "collapsed_sections": [],
      "machine_shape": "hm"
    },
    "widgets": {
      "application/vnd.jupyter.widget-state+json": {
        "89a4dd20b92b42d6ac636e2ac8e5be35": {
          "model_module": "@jupyter-widgets/controls",
          "model_name": "ButtonModel",
          "state": {
            "_view_name": "ButtonView",
            "style": "IPY_MODEL_48f1acf027fb4365b9befa68fa4a2a85",
            "_dom_classes": [],
            "description": "Draw",
            "_model_name": "ButtonModel",
            "button_style": "",
            "_view_module": "@jupyter-widgets/controls",
            "_model_module_version": "1.5.0",
            "tooltip": "",
            "_view_count": null,
            "disabled": false,
            "_view_module_version": "1.5.0",
            "layout": "IPY_MODEL_24e6f6e8ef174b8fb47b6fc1fb4f17a8",
            "_model_module": "@jupyter-widgets/controls",
            "icon": ""
          }
        },
        "48f1acf027fb4365b9befa68fa4a2a85": {
          "model_module": "@jupyter-widgets/controls",
          "model_name": "ButtonStyleModel",
          "state": {
            "_view_name": "StyleView",
            "_model_name": "ButtonStyleModel",
            "_view_module": "@jupyter-widgets/base",
            "_model_module_version": "1.5.0",
            "_view_count": null,
            "button_color": null,
            "font_weight": "",
            "_view_module_version": "1.2.0",
            "_model_module": "@jupyter-widgets/controls"
          }
        },
        "24e6f6e8ef174b8fb47b6fc1fb4f17a8": {
          "model_module": "@jupyter-widgets/base",
          "model_name": "LayoutModel",
          "state": {
            "_view_name": "LayoutView",
            "grid_template_rows": null,
            "right": null,
            "justify_content": null,
            "_view_module": "@jupyter-widgets/base",
            "overflow": null,
            "_model_module_version": "1.2.0",
            "_view_count": null,
            "flex_flow": null,
            "width": null,
            "min_width": null,
            "border": null,
            "align_items": null,
            "bottom": null,
            "_model_module": "@jupyter-widgets/base",
            "top": null,
            "grid_column": null,
            "overflow_y": null,
            "overflow_x": null,
            "grid_auto_flow": null,
            "grid_area": null,
            "grid_template_columns": null,
            "flex": null,
            "_model_name": "LayoutModel",
            "justify_items": null,
            "grid_row": null,
            "max_height": null,
            "align_content": null,
            "visibility": null,
            "align_self": null,
            "height": null,
            "min_height": null,
            "padding": null,
            "grid_auto_rows": null,
            "grid_gap": null,
            "max_width": null,
            "order": null,
            "_view_module_version": "1.2.0",
            "grid_template_areas": null,
            "object_position": null,
            "object_fit": null,
            "grid_auto_columns": null,
            "margin": null,
            "display": null,
            "left": null
          }
        },
        "656fa60726f84823a3cd230546d6a733": {
          "model_module": "@jupyter-widgets/controls",
          "model_name": "TextModel",
          "state": {
            "_view_name": "TextView",
            "style": "IPY_MODEL_e8cde51a80eb4bee81cf779d831efd38",
            "_dom_classes": [],
            "description": "String:",
            "_model_name": "TextModel",
            "placeholder": "Query",
            "_view_module": "@jupyter-widgets/controls",
            "_model_module_version": "1.5.0",
            "value": "МАТЬ",
            "_view_count": null,
            "disabled": false,
            "_view_module_version": "1.5.0",
            "continuous_update": true,
            "description_tooltip": null,
            "_model_module": "@jupyter-widgets/controls",
            "layout": "IPY_MODEL_9f4aa84bce0b4dc6bb1c5aa4d89789ab"
          }
        },
        "e8cde51a80eb4bee81cf779d831efd38": {
          "model_module": "@jupyter-widgets/controls",
          "model_name": "DescriptionStyleModel",
          "state": {
            "_view_name": "StyleView",
            "_model_name": "DescriptionStyleModel",
            "description_width": "",
            "_view_module": "@jupyter-widgets/base",
            "_model_module_version": "1.5.0",
            "_view_count": null,
            "_view_module_version": "1.2.0",
            "_model_module": "@jupyter-widgets/controls"
          }
        },
        "9f4aa84bce0b4dc6bb1c5aa4d89789ab": {
          "model_module": "@jupyter-widgets/base",
          "model_name": "LayoutModel",
          "state": {
            "_view_name": "LayoutView",
            "grid_template_rows": null,
            "right": null,
            "justify_content": null,
            "_view_module": "@jupyter-widgets/base",
            "overflow": null,
            "_model_module_version": "1.2.0",
            "_view_count": null,
            "flex_flow": null,
            "width": null,
            "min_width": null,
            "border": null,
            "align_items": null,
            "bottom": null,
            "_model_module": "@jupyter-widgets/base",
            "top": null,
            "grid_column": null,
            "overflow_y": null,
            "overflow_x": null,
            "grid_auto_flow": null,
            "grid_area": null,
            "grid_template_columns": null,
            "flex": null,
            "_model_name": "LayoutModel",
            "justify_items": null,
            "grid_row": null,
            "max_height": null,
            "align_content": null,
            "visibility": null,
            "align_self": null,
            "height": null,
            "min_height": null,
            "padding": null,
            "grid_auto_rows": null,
            "grid_gap": null,
            "max_width": null,
            "order": null,
            "_view_module_version": "1.2.0",
            "grid_template_areas": null,
            "object_position": null,
            "object_fit": null,
            "grid_auto_columns": null,
            "margin": null,
            "display": null,
            "left": null
          }
        }
      }
    }
  },
  "cells": [
    {
      "cell_type": "markdown",
      "metadata": {
        "ExecuteTime": {
          "end_time": "2020-02-12T17:56:22.948195Z",
          "start_time": "2020-02-12T17:56:22.944176Z"
        },
        "id": "BOgEKNXIi_tc",
        "colab_type": "text"
      },
      "source": [
        "### Lab 2: Hyponyms and Hypernyms"
      ]
    },
    {
      "cell_type": "code",
      "metadata": {
        "ExecuteTime": {
          "end_time": "2020-02-12T14:12:16.470920Z",
          "start_time": "2020-02-12T14:12:15.640262Z"
        },
        "id": "92t4iWnki_tg",
        "colab_type": "code",
        "outputId": "899efec5-7e1f-4203-cb9a-93ce8b55e710",
        "colab": {
          "base_uri": "https://localhost:8080/",
          "height": 34
        }
      },
      "source": [
        "import pandas as pd\n",
        "import wikipedia\n",
        "import os\n",
        "from tqdm import tqdm\n",
        "from joblib import Parallel, delayed\n",
        "import multiprocessing\n",
        "import networkx as nx\n",
        "import matplotlib.pyplot as plt\n",
        "from collections import defaultdict\n",
        "from ipywidgets import interact, interactive, fixed, interact_manual,widgets\n",
        "from IPython.display import display\n",
        "import json\n",
        "num_cores = multiprocessing.cpu_count()\n",
        "print(num_cores)\n",
        "wikipedia.set_lang(\"ru\")\n",
        "# DATA_PATH_LIST = ['D:','src2','taxonomy-enrichment','data','training_data']\n",
        "# DATA_PATH_LIST = ['/content']\n",
        "# EMBEDDING_MODEL_FILENAME = \"wiki_node2vec.bin\"\n",
        "# DATA_PATH=\"/\".join(DATA_PATH_LIST+[\"training_nouns.tsv\"])\n",
        "# df = pd.read_csv(DATA_PATH,sep='\\t')\n",
        "%matplotlib inline"
      ],
      "execution_count": 0,
      "outputs": [
        {
          "output_type": "stream",
          "text": [
            "4\n"
          ],
          "name": "stdout"
        }
      ]
    },
    {
      "cell_type": "code",
      "metadata": {
        "id": "_KFuTWPGoFcj",
        "colab_type": "code",
        "colab": {}
      },
      "source": [
        "from google.colab import drive\n",
        "drive.mount('/content/drive')"
      ],
      "execution_count": 0,
      "outputs": []
    },
    {
      "cell_type": "code",
      "metadata": {
        "id": "mOg8b8uEnVAo",
        "colab_type": "code",
        "outputId": "0567d616-82ce-475a-fb60-68073e1b8de6",
        "colab": {
          "base_uri": "https://localhost:8080/",
          "height": 309
        }
      },
      "source": [
        "pip install git+https://github.com/lucasdnd/Wikipedia.git"
      ],
      "execution_count": 0,
      "outputs": [
        {
          "output_type": "stream",
          "text": [
            "Collecting git+https://github.com/lucasdnd/Wikipedia.git\n",
            "  Cloning https://github.com/lucasdnd/Wikipedia.git to /tmp/pip-req-build-cj6gkxug\n",
            "  Running command git clone -q https://github.com/lucasdnd/Wikipedia.git /tmp/pip-req-build-cj6gkxug\n",
            "Requirement already satisfied: beautifulsoup4 in /usr/local/lib/python3.6/dist-packages (from wikipedia==1.4.0) (4.6.3)\n",
            "Requirement already satisfied: requests<3.0.0,>=2.0.0 in /usr/local/lib/python3.6/dist-packages (from wikipedia==1.4.0) (2.21.0)\n",
            "Requirement already satisfied: chardet<3.1.0,>=3.0.2 in /usr/local/lib/python3.6/dist-packages (from requests<3.0.0,>=2.0.0->wikipedia==1.4.0) (3.0.4)\n",
            "Requirement already satisfied: idna<2.9,>=2.5 in /usr/local/lib/python3.6/dist-packages (from requests<3.0.0,>=2.0.0->wikipedia==1.4.0) (2.8)\n",
            "Requirement already satisfied: urllib3<1.25,>=1.21.1 in /usr/local/lib/python3.6/dist-packages (from requests<3.0.0,>=2.0.0->wikipedia==1.4.0) (1.24.3)\n",
            "Requirement already satisfied: certifi>=2017.4.17 in /usr/local/lib/python3.6/dist-packages (from requests<3.0.0,>=2.0.0->wikipedia==1.4.0) (2019.11.28)\n",
            "Building wheels for collected packages: wikipedia\n",
            "  Building wheel for wikipedia (setup.py) ... \u001b[?25l\u001b[?25hdone\n",
            "  Created wheel for wikipedia: filename=wikipedia-1.4.0-cp36-none-any.whl size=11696 sha256=7a6725c88b777458e3ac42806e37c302e80df77a629814a34211621604ef23b6\n",
            "  Stored in directory: /tmp/pip-ephem-wheel-cache-vre9fi8z/wheels/f9/8b/8f/53af797c01eebc4990d7dafdd35399df459c641556cff9ec44\n",
            "Successfully built wikipedia\n",
            "Installing collected packages: wikipedia\n",
            "Successfully installed wikipedia-1.4.0\n"
          ],
          "name": "stdout"
        }
      ]
    },
    {
      "cell_type": "code",
      "metadata": {
        "ExecuteTime": {
          "end_time": "2020-02-12T14:12:16.475780Z",
          "start_time": "2020-02-12T14:12:16.473114Z"
        },
        "id": "ITX3IHk7i_tm",
        "colab_type": "code",
        "colab": {}
      },
      "source": [
        "def prestr(x):\n",
        "    return str(x).replace('\\\"','').replace(\"'\",'\"')"
      ],
      "execution_count": 0,
      "outputs": []
    },
    {
      "cell_type": "code",
      "metadata": {
        "ExecuteTime": {
          "end_time": "2020-02-12T14:12:16.685506Z",
          "start_time": "2020-02-12T14:12:16.477634Z"
        },
        "id": "B6_iJB5Vi_tr",
        "colab_type": "code",
        "outputId": "b967a77d-f1d7-43ec-d4f4-257a445c2a8a",
        "colab": {
          "base_uri": "https://localhost:8080/",
          "height": 51
        }
      },
      "source": [
        "class DefDict(defaultdict):\n",
        "    def __missing__(self, key):\n",
        "        self[key] = key\n",
        "        return key\n",
        "    \n",
        "idx2syns = DefDict(lambda x:x)\n",
        "for val in df.values:\n",
        "    idx2syns[val[0]]=val[1]\n",
        "    try:\n",
        "        pidxs = json.loads(prestr(val[2]))\n",
        "        concp = [el.split(\",\")[0] for el in json.loads(prestr(val[3]))]\n",
        "        idx2syns.update(dict(zip(pidxs,concp)))\n",
        "    except:\n",
        "        print(prestr(val[2]))\n",
        "        print(prestr(val[3]))"
      ],
      "execution_count": 0,
      "outputs": [
        {
          "output_type": "stream",
          "text": [
            "[\"3240-N\", \"145191-N\"]\n",
            "[\"СП\n"
          ],
          "name": "stdout"
        }
      ]
    },
    {
      "cell_type": "markdown",
      "metadata": {
        "ExecuteTime": {
          "end_time": "2020-02-12T17:12:34.060220Z",
          "start_time": "2020-02-12T17:12:34.055235Z"
        },
        "id": "RazUQKXCi_tx",
        "colab_type": "text"
      },
      "source": [
        "### Interactive visualization of hyponyms and hypernyms"
      ]
    },
    {
      "cell_type": "code",
      "metadata": {
        "ExecuteTime": {
          "end_time": "2020-02-12T17:11:37.966489Z",
          "start_time": "2020-02-12T17:11:37.931688Z"
        },
        "id": "rD9NRZd6i_ty",
        "colab_type": "code",
        "outputId": "45f16fb4-352f-42d9-fafc-8f35890d5b6b",
        "colab": {
          "base_uri": "https://localhost:8080/",
          "height": 81,
          "referenced_widgets": [
            "89a4dd20b92b42d6ac636e2ac8e5be35",
            "48f1acf027fb4365b9befa68fa4a2a85",
            "24e6f6e8ef174b8fb47b6fc1fb4f17a8",
            "656fa60726f84823a3cd230546d6a733",
            "e8cde51a80eb4bee81cf779d831efd38",
            "9f4aa84bce0b4dc6bb1c5aa4d89789ab"
          ]
        }
      },
      "source": [
        "button = widgets.Button(description=\"Draw\")\n",
        "query = widgets.Text(\n",
        "    value='МАТЬ',\n",
        "    placeholder='Query',\n",
        "    description='String:',\n",
        "    disabled=False\n",
        ")\n",
        "display(button,query)\n",
        "\n",
        "\n",
        "\n",
        "\n",
        "def creategraph(df):\n",
        "    res = []\n",
        "    for row in df.values:\n",
        "        cohyps = row[1].split(\",\")\n",
        "        for idx,cohyp in enumerate(cohyps):\n",
        "            for parent in json.loads(prestr(row[2])):\n",
        "                res.append((row[0]+'-'+str(idx),parent))\n",
        "    return res\n",
        "\n",
        "def graphdraw(b):\n",
        "    print(\"graphdraw\",query.value)\n",
        "    subset = df[df['TEXT'].str.contains(query.value.upper())]\n",
        "    g = nx.DiGraph()\n",
        "    for el in subset.values:\n",
        "        cohyps = el[1].split(\",\")\n",
        "        print(cohyps)\n",
        "        syns = idx2syns[el[0]]\n",
        "        for child in cohyps:\n",
        "            for parent in json.loads(prestr(el[2])):\n",
        "                ed = g.add_edge(child,idx2syns[parent],label=\"is a\")\n",
        "            \n",
        "    plt.figure(figsize=(15,15))\n",
        "    pos = nx.nx_agraph.graphviz_layout(g)\n",
        "    nx.draw(g,with_labels=True,pos=pos)\n",
        "#     edge_labels=nx.draw_networkx_edge_labels(g,pos=pos)\n",
        "    plt.show()\n",
        "button.on_click(graphdraw)"
      ],
      "execution_count": 0,
      "outputs": [
        {
          "output_type": "display_data",
          "data": {
            "application/vnd.jupyter.widget-view+json": {
              "model_id": "89a4dd20b92b42d6ac636e2ac8e5be35",
              "version_minor": 0,
              "version_major": 2
            },
            "text/plain": [
              "Button(description='Draw', style=ButtonStyle())"
            ]
          },
          "metadata": {
            "tags": []
          }
        },
        {
          "output_type": "display_data",
          "data": {
            "application/vnd.jupyter.widget-view+json": {
              "model_id": "656fa60726f84823a3cd230546d6a733",
              "version_minor": 0,
              "version_major": 2
            },
            "text/plain": [
              "Text(value='МАТЬ', description='String:', placeholder='Query')"
            ]
          },
          "metadata": {
            "tags": []
          }
        }
      ]
    },
    {
      "cell_type": "code",
      "metadata": {
        "id": "8Em32p11zYBO",
        "colab_type": "code",
        "outputId": "12440098-c129-43a6-c790-8d5281bab7bb",
        "colab": {
          "base_uri": "https://localhost:8080/",
          "height": 1000
        }
      },
      "source": [
        "!pip install requests\n",
        "!pip install backoff\n",
        "!apt-get install python-pygraphviz\n",
        "!apt-get install graphviz-dev\n",
        "!pip install graphviz\n",
        "!pip install eralchemy\n",
        "!pip install git+https://github.com/innovationOUtside/ipython_magic_eralchemy.git\n"
      ],
      "execution_count": 0,
      "outputs": [
        {
          "output_type": "stream",
          "text": [
            "Requirement already satisfied: requests in /usr/local/lib/python3.6/dist-packages (2.21.0)\n",
            "Requirement already satisfied: idna<2.9,>=2.5 in /usr/local/lib/python3.6/dist-packages (from requests) (2.8)\n",
            "Requirement already satisfied: certifi>=2017.4.17 in /usr/local/lib/python3.6/dist-packages (from requests) (2019.11.28)\n",
            "Requirement already satisfied: urllib3<1.25,>=1.21.1 in /usr/local/lib/python3.6/dist-packages (from requests) (1.24.3)\n",
            "Requirement already satisfied: chardet<3.1.0,>=3.0.2 in /usr/local/lib/python3.6/dist-packages (from requests) (3.0.4)\n",
            "Collecting backoff\n",
            "  Downloading https://files.pythonhosted.org/packages/f0/32/c5dd4f4b0746e9ec05ace2a5045c1fc375ae67ee94355344ad6c7005fd87/backoff-1.10.0-py2.py3-none-any.whl\n",
            "Installing collected packages: backoff\n",
            "Successfully installed backoff-1.10.0\n",
            "Reading package lists... Done\n",
            "Building dependency tree       \n",
            "Reading state information... Done\n",
            "The following package was automatically installed and is no longer required:\n",
            "  libnvidia-common-430\n",
            "Use 'apt autoremove' to remove it.\n",
            "Suggested packages:\n",
            "  python-pygraphviz-doc\n",
            "The following NEW packages will be installed:\n",
            "  python-pygraphviz\n",
            "0 upgraded, 1 newly installed, 0 to remove and 25 not upgraded.\n",
            "Need to get 71.6 kB of archives.\n",
            "After this operation, 410 kB of additional disk space will be used.\n",
            "Get:1 http://archive.ubuntu.com/ubuntu bionic-updates/universe amd64 python-pygraphviz amd64 1.4~rc1-1build2.1 [71.6 kB]\n",
            "Fetched 71.6 kB in 1s (112 kB/s)\n",
            "Selecting previously unselected package python-pygraphviz.\n",
            "(Reading database ... 134443 files and directories currently installed.)\n",
            "Preparing to unpack .../python-pygraphviz_1.4~rc1-1build2.1_amd64.deb ...\n",
            "Unpacking python-pygraphviz (1.4~rc1-1build2.1) ...\n",
            "Setting up python-pygraphviz (1.4~rc1-1build2.1) ...\n",
            "Reading package lists... Done\n",
            "Building dependency tree       \n",
            "Reading state information... Done\n",
            "Note, selecting 'libgraphviz-dev' instead of 'graphviz-dev'\n",
            "The following package was automatically installed and is no longer required:\n",
            "  libnvidia-common-430\n",
            "Use 'apt autoremove' to remove it.\n",
            "The following additional packages will be installed:\n",
            "  libgail-common libgail18 libgtk2.0-0 libgtk2.0-bin libgtk2.0-common\n",
            "  libgvc6-plugins-gtk libxdot4\n",
            "Suggested packages:\n",
            "  gvfs\n",
            "The following NEW packages will be installed:\n",
            "  libgail-common libgail18 libgraphviz-dev libgtk2.0-0 libgtk2.0-bin\n",
            "  libgtk2.0-common libgvc6-plugins-gtk libxdot4\n",
            "0 upgraded, 8 newly installed, 0 to remove and 25 not upgraded.\n",
            "Need to get 2,120 kB of archives.\n",
            "After this operation, 7,128 kB of additional disk space will be used.\n",
            "Get:1 http://archive.ubuntu.com/ubuntu bionic/main amd64 libgtk2.0-common all 2.24.32-1ubuntu1 [125 kB]\n",
            "Get:2 http://archive.ubuntu.com/ubuntu bionic/main amd64 libgtk2.0-0 amd64 2.24.32-1ubuntu1 [1,769 kB]\n",
            "Get:3 http://archive.ubuntu.com/ubuntu bionic/main amd64 libgail18 amd64 2.24.32-1ubuntu1 [14.2 kB]\n",
            "Get:4 http://archive.ubuntu.com/ubuntu bionic/main amd64 libgail-common amd64 2.24.32-1ubuntu1 [112 kB]\n",
            "Get:5 http://archive.ubuntu.com/ubuntu bionic/universe amd64 libxdot4 amd64 2.40.1-2 [15.7 kB]\n",
            "Get:6 http://archive.ubuntu.com/ubuntu bionic/universe amd64 libgvc6-plugins-gtk amd64 2.40.1-2 [18.2 kB]\n",
            "Get:7 http://archive.ubuntu.com/ubuntu bionic/universe amd64 libgraphviz-dev amd64 2.40.1-2 [57.3 kB]\n",
            "Get:8 http://archive.ubuntu.com/ubuntu bionic/main amd64 libgtk2.0-bin amd64 2.24.32-1ubuntu1 [7,536 B]\n",
            "Fetched 2,120 kB in 1s (1,454 kB/s)\n",
            "Selecting previously unselected package libgtk2.0-common.\n",
            "(Reading database ... 134476 files and directories currently installed.)\n",
            "Preparing to unpack .../0-libgtk2.0-common_2.24.32-1ubuntu1_all.deb ...\n",
            "Unpacking libgtk2.0-common (2.24.32-1ubuntu1) ...\n",
            "Selecting previously unselected package libgtk2.0-0:amd64.\n",
            "Preparing to unpack .../1-libgtk2.0-0_2.24.32-1ubuntu1_amd64.deb ...\n",
            "Unpacking libgtk2.0-0:amd64 (2.24.32-1ubuntu1) ...\n",
            "Selecting previously unselected package libgail18:amd64.\n",
            "Preparing to unpack .../2-libgail18_2.24.32-1ubuntu1_amd64.deb ...\n",
            "Unpacking libgail18:amd64 (2.24.32-1ubuntu1) ...\n",
            "Selecting previously unselected package libgail-common:amd64.\n",
            "Preparing to unpack .../3-libgail-common_2.24.32-1ubuntu1_amd64.deb ...\n",
            "Unpacking libgail-common:amd64 (2.24.32-1ubuntu1) ...\n",
            "Selecting previously unselected package libxdot4.\n",
            "Preparing to unpack .../4-libxdot4_2.40.1-2_amd64.deb ...\n",
            "Unpacking libxdot4 (2.40.1-2) ...\n",
            "Selecting previously unselected package libgvc6-plugins-gtk.\n",
            "Preparing to unpack .../5-libgvc6-plugins-gtk_2.40.1-2_amd64.deb ...\n",
            "Unpacking libgvc6-plugins-gtk (2.40.1-2) ...\n",
            "Selecting previously unselected package libgraphviz-dev.\n",
            "Preparing to unpack .../6-libgraphviz-dev_2.40.1-2_amd64.deb ...\n",
            "Unpacking libgraphviz-dev (2.40.1-2) ...\n",
            "Selecting previously unselected package libgtk2.0-bin.\n",
            "Preparing to unpack .../7-libgtk2.0-bin_2.24.32-1ubuntu1_amd64.deb ...\n",
            "Unpacking libgtk2.0-bin (2.24.32-1ubuntu1) ...\n",
            "Setting up libgtk2.0-common (2.24.32-1ubuntu1) ...\n",
            "Setting up libxdot4 (2.40.1-2) ...\n",
            "Setting up libgtk2.0-0:amd64 (2.24.32-1ubuntu1) ...\n",
            "Setting up libgail18:amd64 (2.24.32-1ubuntu1) ...\n",
            "Setting up libgail-common:amd64 (2.24.32-1ubuntu1) ...\n",
            "Setting up libgvc6-plugins-gtk (2.40.1-2) ...\n",
            "Setting up libgraphviz-dev (2.40.1-2) ...\n",
            "Setting up libgtk2.0-bin (2.24.32-1ubuntu1) ...\n",
            "Processing triggers for man-db (2.8.3-2ubuntu0.1) ...\n",
            "Processing triggers for libc-bin (2.27-3ubuntu1) ...\n",
            "/sbin/ldconfig.real: /usr/local/lib/python3.6/dist-packages/ideep4py/lib/libmkldnn.so.0 is not a symbolic link\n",
            "\n",
            "Requirement already satisfied: graphviz in /usr/local/lib/python3.6/dist-packages (0.10.1)\n",
            "Collecting eralchemy\n",
            "  Downloading https://files.pythonhosted.org/packages/59/86/17072a11407857a26a36d33566c83f1cf1b2467eedffc33ed16d7f84d615/ERAlchemy-1.2.10-py2.py3-none-any.whl\n",
            "Requirement already satisfied: SQLAlchemy in /usr/local/lib/python3.6/dist-packages (from eralchemy) (1.3.13)\n",
            "Collecting pygraphviz\n",
            "\u001b[?25l  Downloading https://files.pythonhosted.org/packages/7e/b1/d6d849ddaf6f11036f9980d433f383d4c13d1ebcfc3cd09bc845bda7e433/pygraphviz-1.5.zip (117kB)\n",
            "\u001b[K     |████████████████████████████████| 122kB 7.6MB/s \n",
            "\u001b[?25hBuilding wheels for collected packages: pygraphviz\n",
            "  Building wheel for pygraphviz (setup.py) ... \u001b[?25l\u001b[?25hdone\n",
            "  Created wheel for pygraphviz: filename=pygraphviz-1.5-cp36-cp36m-linux_x86_64.whl size=157579 sha256=46c397124bd525d706131b0de9d79e715283fc5799c987e7dd399a3fd02d958e\n",
            "  Stored in directory: /root/.cache/pip/wheels/65/54/69/1aee9e66ab19916293208d4c9de0d3898adebe6b2eeff6476b\n",
            "Successfully built pygraphviz\n",
            "Installing collected packages: pygraphviz, eralchemy\n",
            "Successfully installed eralchemy-1.2.10 pygraphviz-1.5\n",
            "Collecting git+https://github.com/innovationOUtside/ipython_magic_eralchemy.git\n",
            "  Cloning https://github.com/innovationOUtside/ipython_magic_eralchemy.git to /tmp/pip-req-build-ivbfgr7l\n",
            "  Running command git clone -q https://github.com/innovationOUtside/ipython_magic_eralchemy.git /tmp/pip-req-build-ivbfgr7l\n",
            "Requirement already satisfied: ipython-sql in /usr/local/lib/python3.6/dist-packages (from eralchemy-magic==0.0.0) (0.3.9)\n",
            "Requirement already satisfied: ipython-genutils>=0.1.0 in /usr/local/lib/python3.6/dist-packages (from ipython-sql->eralchemy-magic==0.0.0) (0.2.0)\n",
            "Requirement already satisfied: sqlalchemy>=0.6.7 in /usr/local/lib/python3.6/dist-packages (from ipython-sql->eralchemy-magic==0.0.0) (1.3.13)\n",
            "Requirement already satisfied: sqlparse in /usr/local/lib/python3.6/dist-packages (from ipython-sql->eralchemy-magic==0.0.0) (0.3.0)\n",
            "Requirement already satisfied: six in /usr/local/lib/python3.6/dist-packages (from ipython-sql->eralchemy-magic==0.0.0) (1.12.0)\n",
            "Requirement already satisfied: ipython>=1.0 in /usr/local/lib/python3.6/dist-packages (from ipython-sql->eralchemy-magic==0.0.0) (5.5.0)\n",
            "Requirement already satisfied: prettytable in /usr/local/lib/python3.6/dist-packages (from ipython-sql->eralchemy-magic==0.0.0) (0.7.2)\n",
            "Requirement already satisfied: decorator in /usr/local/lib/python3.6/dist-packages (from ipython>=1.0->ipython-sql->eralchemy-magic==0.0.0) (4.4.1)\n",
            "Requirement already satisfied: simplegeneric>0.8 in /usr/local/lib/python3.6/dist-packages (from ipython>=1.0->ipython-sql->eralchemy-magic==0.0.0) (0.8.1)\n",
            "Requirement already satisfied: pexpect; sys_platform != \"win32\" in /usr/local/lib/python3.6/dist-packages (from ipython>=1.0->ipython-sql->eralchemy-magic==0.0.0) (4.8.0)\n",
            "Requirement already satisfied: setuptools>=18.5 in /usr/local/lib/python3.6/dist-packages (from ipython>=1.0->ipython-sql->eralchemy-magic==0.0.0) (45.1.0)\n",
            "Requirement already satisfied: pickleshare in /usr/local/lib/python3.6/dist-packages (from ipython>=1.0->ipython-sql->eralchemy-magic==0.0.0) (0.7.5)\n",
            "Requirement already satisfied: traitlets>=4.2 in /usr/local/lib/python3.6/dist-packages (from ipython>=1.0->ipython-sql->eralchemy-magic==0.0.0) (4.3.3)\n",
            "Requirement already satisfied: pygments in /usr/local/lib/python3.6/dist-packages (from ipython>=1.0->ipython-sql->eralchemy-magic==0.0.0) (2.1.3)\n",
            "Requirement already satisfied: prompt-toolkit<2.0.0,>=1.0.4 in /usr/local/lib/python3.6/dist-packages (from ipython>=1.0->ipython-sql->eralchemy-magic==0.0.0) (1.0.18)\n",
            "Requirement already satisfied: ptyprocess>=0.5 in /usr/local/lib/python3.6/dist-packages (from pexpect; sys_platform != \"win32\"->ipython>=1.0->ipython-sql->eralchemy-magic==0.0.0) (0.6.0)\n",
            "Requirement already satisfied: wcwidth in /usr/local/lib/python3.6/dist-packages (from prompt-toolkit<2.0.0,>=1.0.4->ipython>=1.0->ipython-sql->eralchemy-magic==0.0.0) (0.1.8)\n",
            "Building wheels for collected packages: eralchemy-magic\n",
            "  Building wheel for eralchemy-magic (setup.py) ... \u001b[?25l\u001b[?25hdone\n",
            "  Created wheel for eralchemy-magic: filename=eralchemy_magic-0.0.0-cp36-none-any.whl size=3320 sha256=5e648d7531fbcc08651e33d2c5c4ba9701eee0facb26ffa30b788a02c95ff503\n",
            "  Stored in directory: /tmp/pip-ephem-wheel-cache-bkwwpeir/wheels/71/c0/95/dbdaf6bf065e5e8deaa816ceb43d49cdec6d8228db70200b44\n",
            "Successfully built eralchemy-magic\n",
            "Installing collected packages: eralchemy-magic\n",
            "Successfully installed eralchemy-magic-0.0.0\n"
          ],
          "name": "stdout"
        }
      ]
    },
    {
      "cell_type": "markdown",
      "metadata": {
        "ExecuteTime": {
          "end_time": "2020-02-12T11:38:20.619158Z",
          "start_time": "2020-02-12T11:38:20.614734Z"
        },
        "id": "NNLnVTPOi_t4",
        "colab_type": "text"
      },
      "source": [
        "### Pattern extractor\n",
        "\n",
        "Yargy — библиотека для извлечения структурированной информации из текстов на русском языке. Правила описываются контекстно-свободными грамматиками и словарями ключевых слов. Банк готовых правил для имён, дат, адресов и других сущностей доступен в репозитории Natasha.\n",
        "* https://yargy.readthedocs.io/ru/latest/\n",
        "* http://pymorphy2.readthedocs.io/en/latest/user/grammemes.html\n",
        "* https://github.com/natasha/natasha"
      ]
    },
    {
      "cell_type": "markdown",
      "metadata": {
        "ExecuteTime": {
          "start_time": "2020-02-12T13:09:50.486Z"
        },
        "id": "28USCy-Gi_t6",
        "colab_type": "text"
      },
      "source": [
        "### Токенизатор"
      ]
    },
    {
      "cell_type": "code",
      "metadata": {
        "ExecuteTime": {
          "end_time": "2020-02-12T14:12:16.819980Z",
          "start_time": "2020-02-12T14:12:16.708109Z"
        },
        "id": "9FVVW4Myi_t7",
        "colab_type": "code",
        "outputId": "f426a37b-b2cc-48b9-ad44-4c8ecd7ccdba",
        "colab": {
          "base_uri": "https://localhost:8080/",
          "height": 119
        }
      },
      "source": [
        "from yargy.tokenizer import MorphTokenizer\n",
        "\n",
        "\n",
        "tokenizer = MorphTokenizer()\n",
        "text = '''Ростов-на-Дону\n",
        "Длительностью 18ч. 10мин.\n",
        "Яндекс.Такси\n",
        "π ≈ 3.1415\n",
        "1 500 000$\n",
        "http://vk.com\n",
        "'''\n",
        "for line in text.splitlines():\n",
        "    print([_.value for _ in tokenizer(line)])"
      ],
      "execution_count": 0,
      "outputs": [
        {
          "output_type": "stream",
          "text": [
            "['Ростов', '-', 'на', '-', 'Дону']\n",
            "['Длительностью', '18', 'ч', '.', '10', 'мин', '.']\n",
            "['Яндекс', '.', 'Такси']\n",
            "['π', '≈', '3', '.', '1415']\n",
            "['1', '500', '000', '$']\n",
            "['http', ':', '/', '/', 'vk', '.', 'com']\n"
          ],
          "name": "stdout"
        }
      ]
    },
    {
      "cell_type": "code",
      "metadata": {
        "id": "4fF7gytPsbMk",
        "colab_type": "code",
        "outputId": "4d1492aa-eb8c-4ac1-9455-a1d858c7c47c",
        "colab": {
          "base_uri": "https://localhost:8080/",
          "height": 309
        }
      },
      "source": [
        "%pip install yargy"
      ],
      "execution_count": 0,
      "outputs": [
        {
          "output_type": "stream",
          "text": [
            "Collecting yargy\n",
            "\u001b[?25l  Downloading https://files.pythonhosted.org/packages/37/64/d6abf637228bed6b0249b522f588d19dca9f09ab65db13bef41096f51889/yargy-0.12.0-py2.py3-none-any.whl (41kB)\n",
            "\u001b[K     |████████████████████████████████| 51kB 2.7MB/s \n",
            "\u001b[?25hCollecting pymorphy2==0.8\n",
            "\u001b[?25l  Downloading https://files.pythonhosted.org/packages/a3/33/fff9675c68b5f6c63ec8c6e6ff57827dda28a1fa5b2c2d727dffff92dd47/pymorphy2-0.8-py2.py3-none-any.whl (46kB)\n",
            "\u001b[K     |████████████████████████████████| 51kB 4.4MB/s \n",
            "\u001b[?25hCollecting backports.functools-lru-cache==1.3\n",
            "  Downloading https://files.pythonhosted.org/packages/d4/40/0b1db94fdfd71353ae67ec444ff28e0a7ecc25212d1cb94c291b6cd226f9/backports.functools_lru_cache-1.3-py2.py3-none-any.whl\n",
            "Collecting pymorphy2-dicts<3.0,>=2.4\n",
            "\u001b[?25l  Downloading https://files.pythonhosted.org/packages/02/51/2465fd4f72328ab50877b54777764d928da8cb15b74e2680fc1bd8cb3173/pymorphy2_dicts-2.4.393442.3710985-py2.py3-none-any.whl (7.1MB)\n",
            "\u001b[K     |████████████████████████████████| 7.1MB 7.4MB/s \n",
            "\u001b[?25hRequirement already satisfied: docopt>=0.6 in /usr/local/lib/python3.6/dist-packages (from pymorphy2==0.8->yargy) (0.6.2)\n",
            "Collecting dawg-python>=0.7\n",
            "  Downloading https://files.pythonhosted.org/packages/6a/84/ff1ce2071d4c650ec85745766c0047ccc3b5036f1d03559fd46bb38b5eeb/DAWG_Python-0.7.2-py2.py3-none-any.whl\n",
            "Installing collected packages: pymorphy2-dicts, dawg-python, pymorphy2, backports.functools-lru-cache, yargy\n",
            "Successfully installed backports.functools-lru-cache-1.3 dawg-python-0.7.2 pymorphy2-0.8 pymorphy2-dicts-2.4.393442.3710985 yargy-0.12.0\n"
          ],
          "name": "stdout"
        }
      ]
    },
    {
      "cell_type": "markdown",
      "metadata": {
        "ExecuteTime": {
          "end_time": "2020-02-12T13:11:56.582467Z",
          "start_time": "2020-02-12T13:11:56.566175Z"
        },
        "id": "J0YVxYjmi_uC",
        "colab_type": "text"
      },
      "source": [
        "# Газеттир\n",
        "Газеттир нужен для удобной работы с последовательностью слов. Например, можно написать:"
      ]
    },
    {
      "cell_type": "code",
      "metadata": {
        "ExecuteTime": {
          "end_time": "2020-02-12T14:12:16.844412Z",
          "start_time": "2020-02-12T14:12:16.821582Z"
        },
        "id": "Oq_Q3L8Ci_uE",
        "colab_type": "code",
        "colab": {}
      },
      "source": [
        "from yargy import or_, rule\n",
        "from yargy.predicates import normalized\n",
        "\n",
        "RULE = or_(\n",
        "    rule(normalized('dvd'), '-', normalized('диск')),\n",
        "    rule(normalized('видео'), normalized('файл'))\n",
        ")"
      ],
      "execution_count": 0,
      "outputs": []
    },
    {
      "cell_type": "code",
      "metadata": {
        "ExecuteTime": {
          "end_time": "2020-02-12T14:12:16.968622Z",
          "start_time": "2020-02-12T14:12:16.846737Z"
        },
        "id": "SOkun30li_uJ",
        "colab_type": "code",
        "outputId": "3c65c918-b619-4d56-eea2-457550aba29f",
        "colab": {
          "base_uri": "https://localhost:8080/",
          "height": 51
        }
      },
      "source": [
        "from yargy import Parser\n",
        "from yargy.pipelines import morph_pipeline\n",
        "\n",
        "\n",
        "RULE = morph_pipeline([\n",
        "    'dvd-диск',\n",
        "    'видео файл',\n",
        "    'видеофильм',\n",
        "    'газета',\n",
        "    'электронный дневник',\n",
        "    'эссе',\n",
        "])\n",
        "\n",
        "parser = Parser(RULE)\n",
        "text = 'Видео файл на dvd-диске'\n",
        "for match in parser.findall(text):\n",
        "    print([_.value for _ in match.tokens])"
      ],
      "execution_count": 0,
      "outputs": [
        {
          "output_type": "stream",
          "text": [
            "['Видео', 'файл']\n",
            "['dvd', '-', 'диске']\n"
          ],
          "name": "stdout"
        }
      ]
    },
    {
      "cell_type": "code",
      "metadata": {
        "ExecuteTime": {
          "end_time": "2020-02-12T14:12:54.576104Z",
          "start_time": "2020-02-12T14:12:54.511149Z"
        },
        "id": "P8FgcAKni_uO",
        "colab_type": "code",
        "outputId": "ccb840a3-909d-432a-9587-ffef8dbd0417",
        "colab": {
          "base_uri": "https://localhost:8080/",
          "height": 51
        }
      },
      "source": [
        "from yargy import Parser, rule, and_\n",
        "from yargy.predicates import gram, is_capitalized, dictionary\n",
        "\n",
        "\n",
        "GEO = rule(\n",
        "    and_(\n",
        "        gram('ADJF'),  # так помечается прилагательное, остальные пометки описаны в\n",
        "                       # http://pymorphy2.readthedocs.io/en/latest/user/grammemes.html\n",
        "        is_capitalized()\n",
        "    ),\n",
        "    gram('ADJF').optional().repeatable(),\n",
        "    dictionary({\n",
        "        'федерация',\n",
        "        'республика'\n",
        "    })\n",
        ")\n",
        "\n",
        "\n",
        "parser = Parser(GEO)\n",
        "text = '''\n",
        "В Чеченской республике на день рождения ...\n",
        "Донецкая народная республика провозгласила ...\n",
        "Башня Федерация — одна из самых высоких ...\n",
        "'''\n",
        "for match in parser.findall(text):\n",
        "    print([_.value for _ in match.tokens])"
      ],
      "execution_count": 0,
      "outputs": [
        {
          "output_type": "stream",
          "text": [
            "['Чеченской', 'республике']\n",
            "['Донецкая', 'народная', 'республика']\n"
          ],
          "name": "stdout"
        }
      ]
    },
    {
      "cell_type": "markdown",
      "metadata": {
        "ExecuteTime": {
          "end_time": "2020-02-12T13:13:57.167613Z",
          "start_time": "2020-02-12T13:13:57.159920Z"
        },
        "id": "zX3boUP_i_uT",
        "colab_type": "text"
      },
      "source": [
        "### Предикаты\n",
        "\n",
        "Предикат — функция, которая принимает на вход токен и возвращает True или False. В Yargy встроено много готовых предикатов. Полный список есть в справочнике. Предикаты комбинируются с помощью and_, or_ и not_."
      ]
    },
    {
      "cell_type": "code",
      "metadata": {
        "ExecuteTime": {
          "end_time": "2020-02-12T14:12:17.173350Z",
          "start_time": "2020-02-12T14:12:17.136108Z"
        },
        "id": "FweBe1xsi_uV",
        "colab_type": "code",
        "outputId": "813a617e-3566-4eba-ef85-698447f67afd",
        "colab": {
          "base_uri": "https://localhost:8080/",
          "height": 51
        }
      },
      "source": [
        "from yargy import and_, not_\n",
        "from yargy.tokenizer import MorphTokenizer\n",
        "from yargy.predicates import is_capitalized, eq\n",
        "\n",
        "\n",
        "tokenizer = MorphTokenizer()\n",
        "token = next(tokenizer('Стали'))\n",
        "\n",
        "predicate = is_capitalized()\n",
        "print(predicate(token))\n",
        "\n",
        "predicate = and_(\n",
        "    is_capitalized(),\n",
        "    not_(eq('марки'))\n",
        ")\n",
        "print(predicate(token))"
      ],
      "execution_count": 0,
      "outputs": [
        {
          "output_type": "stream",
          "text": [
            "True\n",
            "True\n"
          ],
          "name": "stdout"
        }
      ]
    },
    {
      "cell_type": "markdown",
      "metadata": {
        "ExecuteTime": {
          "end_time": "2020-02-12T13:15:56.600763Z",
          "start_time": "2020-02-12T13:15:56.596609Z"
        },
        "id": "2s7wEjIji_ua",
        "colab_type": "text"
      },
      "source": [
        "### Грамматики\n",
        "В Yargy используется специальный DSL для описания грамматик. Любую контекстно-свободную грамматику можно описать с помощью конструкций Питона. Например, есть примитивная грамматика для размеров одежды:\n",
        "\n",
        "KEY -> р. | размер\n",
        "\n",
        "VALUE -> S | M | L\n",
        "\n",
        "SIZE -> KEY VALUE\n",
        "\n"
      ]
    },
    {
      "cell_type": "code",
      "metadata": {
        "ExecuteTime": {
          "end_time": "2020-02-12T14:14:21.602988Z",
          "start_time": "2020-02-12T14:14:21.589310Z"
        },
        "id": "UQkLMf80i_ub",
        "colab_type": "code",
        "outputId": "6da348b5-b28c-4bb3-f239-c64a91f864fe",
        "colab": {
          "base_uri": "https://localhost:8080/",
          "height": 68
        }
      },
      "source": [
        "from yargy import rule, or_\n",
        "\n",
        "\n",
        "KEY = or_(\n",
        "    rule('р', '.'),\n",
        "    rule('размер')\n",
        ").named('KEY')\n",
        "VALUE = or_(\n",
        "    rule('S'),\n",
        "    rule('M'),\n",
        "    rule('L'),\n",
        "    rule('XS'),\n",
        ").named('VALUE')\n",
        "SIZE = rule(\n",
        "    KEY,\n",
        "    VALUE\n",
        ").named('SIZE')\n",
        "SIZE.normalized.as_bnf"
      ],
      "execution_count": 0,
      "outputs": [
        {
          "output_type": "execute_result",
          "data": {
            "text/plain": [
              "SIZE -> KEY VALUE\n",
              "KEY -> 'р' '.' | 'размер'\n",
              "VALUE -> 'S' | 'M' | 'L' | 'XS'\n"
            ]
          },
          "metadata": {
            "tags": []
          },
          "execution_count": 13
        }
      ]
    },
    {
      "cell_type": "code",
      "metadata": {
        "ExecuteTime": {
          "end_time": "2020-02-12T14:14:27.723857Z",
          "start_time": "2020-02-12T14:14:27.662113Z"
        },
        "id": "cXsU1Uaxi_uf",
        "colab_type": "code",
        "outputId": "1041f390-9884-4a13-b8e6-88f659c8c082",
        "colab": {
          "base_uri": "https://localhost:8080/",
          "height": 51
        }
      },
      "source": [
        "parser = Parser(\n",
        "    SIZE\n",
        ")\n",
        "text = 'размер M; размер A; размер XS;'\n",
        "for match in parser.findall(text):\n",
        "    print([_.value for _ in match.tokens])"
      ],
      "execution_count": 0,
      "outputs": [
        {
          "output_type": "stream",
          "text": [
            "['размер', 'M']\n",
            "['размер', 'XS']\n"
          ],
          "name": "stdout"
        }
      ]
    },
    {
      "cell_type": "code",
      "metadata": {
        "ExecuteTime": {
          "end_time": "2020-02-12T14:12:19.308726Z",
          "start_time": "2020-02-12T14:12:17.354354Z"
        },
        "id": "idxbRC-Qi_uj",
        "colab_type": "code",
        "colab": {}
      },
      "source": [
        "from yargy import Parser, rule, and_, or_, not_\n",
        "from yargy.interpretation import fact, attribute\n",
        "from yargy.predicates import gram, is_capitalized, dictionary, eq\n",
        "import re\n",
        "import pandas as pd\n",
        "from tqdm import tqdm_notebook\n",
        "from gensim import utils\n",
        "from yargy.morph import MorphAnalyzer as ma\n",
        "import pymorphy2 as ppp"
      ],
      "execution_count": 0,
      "outputs": []
    },
    {
      "cell_type": "code",
      "metadata": {
        "ExecuteTime": {
          "end_time": "2020-02-12T14:12:19.323139Z",
          "start_time": "2020-02-12T14:12:19.310769Z"
        },
        "id": "-tDqjLsDi_un",
        "colab_type": "code",
        "colab": {}
      },
      "source": [
        "ADJP = or_(\n",
        "    rule(\n",
        "        ADJF.optional().repeatable(1,3),\n",
        "        eq(',').optional(),\n",
        "        gram('PREP').optional().repeatable(1,3),\n",
        "        eq(',').optional(),\n",
        "        gram('PRTF').optional().repeatable(1,3)\n",
        "    ),\n",
        "    rule(\n",
        "        gram('ADJF').repeatable(1,3).optional(),\n",
        "        gram('PREP').optional(),\n",
        "        gram('ADJF').repeatable(1,3).optional()\n",
        "    ),\n",
        "    rule(\n",
        "        gram('PREP').optional(),\n",
        "        gram('PRTF').repeatable(1,3).optional(),\n",
        "        gram('PREP').optional()\n",
        "    ),\n",
        "    rule(\n",
        "        gram('ADJF').repeatable(1,3).optional(),\n",
        "        gram('PRTF').repeatable(1,3).optional(),\n",
        "        gram('ADJF').repeatable(1,3).optional()\n",
        "    )\n",
        "\n",
        ")\n",
        "NF = rule(\n",
        "    gram('ADJF').optional().repeatable(1,3),\n",
        "    gram('NOUN').optional().repeatable(1,3),\n",
        "    or_(\n",
        "              eq('или').optional(),\n",
        "              eq('и').optional(),\n",
        "              eq(',').optional()\n",
        "          )\n",
        ").repeatable(1, 3)\n",
        "\n",
        "ADJF = or_(\n",
        "        rule(\n",
        "          or_(\n",
        "              gram('ADJF').optional(),\n",
        "              gram('ADVB').optional()\n",
        "          ),\n",
        "          eq('-'),\n",
        "          gram('ADJF')\n",
        "        ),\n",
        "      rule(gram('ADJF')\n",
        "      )\n",
        ")\n",
        "NOUN = or_(\n",
        "        rule(\n",
        "          or_(\n",
        "              gram('NOUN').optional(),\n",
        "              gram('ADVB').optional()\n",
        "          ),\n",
        "          eq('-'),\n",
        "          gram('NOUN')\n",
        "        ),\n",
        "        rule(gram('NOUN')\n",
        "        )\n",
        ")\n",
        "\n",
        "     \n",
        "\n",
        "START = rule(\n",
        "    or_(\n",
        "        rule(gram('ADJF')),\n",
        "        #ADJP,\n",
        "        rule(gram('NOUN'))\n",
        "    ).optional(),\n",
        "    gram('NOUN')\n",
        ")\n",
        "\n",
        "START_S = or_(\n",
        "    eq('такой'),\n",
        "    eq('такие'),\n",
        ")\n",
        "\n",
        "KAK = eq('как')\n",
        "INCLUDING = or_(\n",
        "    or_(\n",
        "        eq('в'),\n",
        "        eq('том'),\n",
        "        eq('числе'),\n",
        "    ),\n",
        "    eq('включающий'),\n",
        "    or_(\n",
        "        eq('включающий'),\n",
        "        eq('в'),\n",
        "        eq('себя'),\n",
        "    ),\n",
        "    or_(\n",
        "        eq('включающие'),\n",
        "        eq('в'),\n",
        "        eq('себя'),\n",
        "    ),\n",
        "    eq('включающие'),\n",
        "    eq('особенно'),\n",
        "\n",
        ")\n",
        "\n",
        "MID_S = or_(\n",
        "    rule(\n",
        "        or_(\n",
        "            eq('такой'),\n",
        "            eq('такие'),\n",
        "        ),\n",
        "        eq('как')\n",
        "    ),\n",
        "    rule(\n",
        "        or_(\n",
        "            eq('.').optional(),\n",
        "            eq(',').optional()\n",
        "        ),\n",
        "        eq('к'),\n",
        "        or_(\n",
        "            eq('ним'),\n",
        "            eq('нему'),\n",
        "            eq('ней')\n",
        "        ),\n",
        "        or_(\n",
        "            eq('относятся'),\n",
        "            eq('относится'),\n",
        "            eq('относят ')\n",
        "        )\n",
        "    )\n",
        ")\n",
        "ATAKJE = rule(\n",
        "    eq(','),\n",
        "    eq('а'),\n",
        "    eq('также')\n",
        ")\n",
        "\n",
        "ZNACHENIE = rule(\n",
        "    eq('значение'),\n",
        "    or_(\n",
        "      eq('-'),\n",
        "      eq(':')  \n",
        "    )\n",
        ")\n",
        "UTOCH = rule(\n",
        "    #eq(', '),\n",
        "    eq('или'),\n",
        "    #eq('элитры ')\n",
        "    gram('NOUN')#.repeatable(1,3)\n",
        "    #ADJP\n",
        "    \n",
        ")\n",
        "PEREVOD = rule(\n",
        "    eq('('),\n",
        "    #gram('NOUN').repeatable(),\n",
        "    eq('лат.'),\n",
        "    gram('NOUN').repeatable(1,3),\n",
        "    eq(')')\n",
        ")\n",
        "MID = or_(\n",
        "    rule(\n",
        "        eq('это')\n",
        "    ),\n",
        "    rule(\n",
        "        or_(\n",
        "              eq('—'),\n",
        "              eq('–')\n",
        "        )\n",
        "    ),\n",
        "    rule(\n",
        "        or_(\n",
        "              eq('—'),\n",
        "              eq('–')\n",
        "        ),\n",
        "        eq('это')\n",
        "    ),\n",
        "    rule(\n",
        "        or_(\n",
        "              eq('—'),\n",
        "            eq('–')\n",
        "        ),\n",
        "        not_(eq('км'))\n",
        "    ),\n",
        "    rule(\n",
        "        or_(\n",
        "            eq('и'),\n",
        "            eq('или')\n",
        "        ),\n",
        "        eq('другие')\n",
        "    ),\n",
        "    rule(\n",
        "        eq('представляет'),\n",
        "        or_(\n",
        "            eq('собой'),\n",
        "            eq('из себя')\n",
        "        )\n",
        "    )\n",
        ")\n",
        "\n",
        "END = or_(\n",
        "    rule(\n",
        "        gram('NOUN'),\n",
        "        gram('NOUN')\n",
        "    ),\n",
        "    rule(\n",
        "        ADJF.repeatable(),\n",
        "        #ADJP.optional(),\n",
        "        NOUN.repeatable()\n",
        "    ),\n",
        "    rule(\n",
        "        gram('ADJF'),\n",
        "        rule(\n",
        "          or_(\n",
        "              eq('или'),\n",
        "              eq('и')\n",
        "          )\n",
        "        ),\n",
        "        gram('NOUN').repeatable(1,3),\n",
        "        gram('ADJF').repeatable(1,3),\n",
        "        gram('NOUN').repeatable(1,3),\n",
        "    ),\n",
        "    rule(\n",
        "        gram('NOUN').repeatable(),\n",
        "        gram('ADJF'),\n",
        "        gram('NOUN').repeatable()\n",
        "    ),\n",
        "    rule(\n",
        "        gram('ADJF'),\n",
        "        eq(',') ,\n",
        "        gram('ADJF'),\n",
        "        gram('NOUN').repeatable()\n",
        "    ),\n",
        "    rule(\n",
        "        NOUN.optional().repeatable(1, 3),\n",
        "        ADJP.optional(),\n",
        "        gram('VERB').optional(),\n",
        "        gram('NOUN').repeatable(1, 3).optional()\n",
        "    )\n",
        "    # rule(\n",
        "    #     eq('.').optional(),\n",
        "    #     MID_S,\n",
        "    #     NF.repeatable(1,3) \n",
        "    # )\n",
        ")\n",
        "\n",
        "Item = fact(\n",
        "    'Item',\n",
        "    [attribute('titles').repeatable()]\n",
        ")\n",
        "\n",
        "\n",
        "IGNORE = rule(\n",
        "    '(',\n",
        "    not_(eq(')')).repeatable(),\n",
        "    ')'\n",
        ")\n",
        "\n",
        "ITEM = rule(\n",
        "    IGNORE.interpretation(\n",
        "        Item.titles\n",
        "    ),\n",
        "    eq(',').optional() \n",
        ").repeatable().interpretation(\n",
        "    Item\n",
        ")"
      ],
      "execution_count": 0,
      "outputs": []
    },
    {
      "cell_type": "code",
      "metadata": {
        "ExecuteTime": {
          "end_time": "2020-02-12T14:12:19.434702Z",
          "start_time": "2020-02-12T14:12:19.324707Z"
        },
        "id": "rcdLAQLbi_ut",
        "colab_type": "code",
        "colab": {}
      },
      "source": [
        "def get_hyperonyms(main_word):\n",
        "    HYPONYM = eq(utils.deaccent(main_word))\n",
        "    RULE = or_(\n",
        "        rule(HYPONYM, ATAKJE, START, MID, END),\n",
        "        rule(HYPONYM, MID, END),\n",
        "        rule(START_S, END, KAK, HYPONYM),\n",
        "        rule(END, INCLUDING, HYPONYM)\n",
        "    )\n",
        "\n",
        "    parser = Parser(RULE) \n",
        "    if(wikipedia.suggest(main_word) == None):\n",
        "      text = utils.deaccent(wikipedia.summary(main_word))\n",
        "      #print(\"test true\")\n",
        "    else:\n",
        "      #print(\"test falsee\")\n",
        "      text = utils.deaccent(wikipedia.summary(main_word,sentences=2, auto_suggest=False))\n",
        "    print(text)\n",
        "    #text = re.sub(r'\\(.+?\\)', '', text)\n",
        "    text = text.lower().replace('* сергии радонежскии* ', '')\n",
        "\n",
        "    hyperonyms = []\n",
        "    for idx, match in enumerate(parser.findall(text.lower())):\n",
        "        k = [_.value for _ in match.tokens]\n",
        "        hyperonyms.append(k)\n",
        "        print(k)\n",
        "        \n",
        "\n",
        "    return hyperonyms"
      ],
      "execution_count": 0,
      "outputs": []
    },
    {
      "cell_type": "code",
      "metadata": {
        "id": "XNiJODP0A7am",
        "colab_type": "code",
        "colab": {}
      },
      "source": [
        "ds = pd.read_excel('/content/hyponym-hypernym.xls')\n",
        "#print(ds.head(5))\n",
        "words = ds['гипоним'].unique().tolist()\n",
        "print(len(words))\n",
        "final_hyperonyms = []\n",
        "for i in range(len(words)):\n",
        "  #print(type(words[i]))\n",
        "  words[i] = words[i].lower()\n",
        "  print(\"Hyperonym for \"+ str(words[i]) + \" :\" )\n",
        "  final_hyperonyms.append(get_hyperonyms(words[i]))\n",
        "\n",
        "print(\"**************************\\n\")\n",
        "print(\"Гипонимы - гиперонимы:\\n\")\n",
        "print(*final_hyperonyms, sep = \"\\n\")\n",
        "  \n",
        "\n"
      ],
      "execution_count": 0,
      "outputs": []
    },
    {
      "cell_type": "code",
      "metadata": {
        "colab_type": "code",
        "id": "p866LUtQrgwg",
        "colab": {}
      },
      "source": [
        "def get_hyperonyms_fromDF(main_word, text_source):\n",
        "    HYPONYM = eq(utils.deaccent(main_word))\n",
        "    RULE = or_(\n",
        "        rule(HYPONYM, ATAKJE, START, MID, END),\n",
        "        rule(HYPONYM, MID, END),\n",
        "        rule(START_S, END, KAK, HYPONYM),\n",
        "        rule(END, INCLUDING, HYPONYM),\n",
        "        rule(HYPONYM, ZNACHENIE, MID, END),\n",
        "       # rule(HYPONYM, PEREVOD, MID, END)\n",
        "        rule(HYPONYM, UTOCH, MID, END),\n",
        "        rule( START, MID_S, NF, HYPONYM)\n",
        "        #rule(HYPONYM, UTOCH, PEREVOD, MID, END)\n",
        "        \n",
        "    )\n",
        "\n",
        "    parser = Parser(RULE) \n",
        "\n",
        "    accents = []\n",
        "    for i in range(len(text_source)):\n",
        "      accents.append(text_source[i]=='й')\n",
        "    text = []\n",
        "    #text = utils.deaccent(text_source) # litter deaccent\n",
        "    pop = ['́', '́ ']\n",
        "    for i in range(len(text_source)):\n",
        "      if text_source[i] not in pop :\n",
        "        text.append(text_source[i])  # litter deaccent\n",
        "    \n",
        "    text = \"\".join(text) \n",
        "    # #tmp_str = \"\".join(accents)\n",
        "    # excluse = ['́', '́']\n",
        "    # for j in range(len(text)): # remiving accent  \n",
        "    #   if( text_source[j] not in text and (text_source[j] != 'й' and text_source[j] != 'ё')):\n",
        "    #       print(str(text_source[j])+\" \")\n",
        "    #       accents.pop(j)\n",
        "    # if len(text)!=len(accents):\n",
        "    #     print(\"test failed\" + str(len(text))+\" \" + str(len(accents)))\n",
        "\n",
        "    # for i in range(len(text)):\n",
        "    #   if( accents[i]==True ):\n",
        "    #     #text_source = text_source[:i] + 'й' + text_source[(i+1):]\n",
        "    #     #text_source.replacce(text_source[i], 'й')\n",
        "    #     text = list(text)\n",
        "    #     text[i] = 'й'\n",
        "    #     text = \"\".join(text) \n",
        "\n",
        "    print(text)\n",
        "    text = re.sub(r'\\(.+?\\)', '', text)\n",
        "    text = text.lower().replace('* сергии радонежскии* ', '')\n",
        "\n",
        "    hyperonyms = []\n",
        "    for idx, match in enumerate(parser.findall(text.lower())):\n",
        "        k = [_.value for _ in match.tokens]\n",
        "        hyperonyms.append(k)\n",
        "        print(k)\n",
        "        \n",
        "\n",
        "    return hyperonyms"
      ],
      "execution_count": 0,
      "outputs": []
    },
    {
      "cell_type": "code",
      "metadata": {
        "id": "1RtI42IfrkTX",
        "colab_type": "code",
        "outputId": "edb259cb-17e7-4d42-d7c7-656097be4964",
        "colab": {
          "base_uri": "https://localhost:8080/",
          "height": 1000
        }
      },
      "source": [
        "ds = pd.read_excel('/content/hyponym-hypernym_new.xls')\n",
        "#print(ds.head(5))\n",
        "gyponyms = ds['гипоним'].tolist()\n",
        "hyperonyms_fromdf = ds['гипероним'].tolist() \n",
        "text_fromdf = ds['пример'].tolist()\n",
        "hypo_hyper_map = {}\n",
        "\n",
        "for word in ds['гипоним'].unique().tolist():\n",
        "  hypo_hyper_map[word.lower()] = []\n",
        "\n",
        "print(hypo_hyper_map)\n",
        "\n",
        "#print(len(words))\n",
        "final_hyperonyms = []\n",
        "if len(gyponyms)!=len(text_fromdf):\n",
        "  print(\"Количество гипонимов и примеров не равно. \")\n",
        "  exit\n",
        "\n",
        "cnt = 0\n",
        "for i in range(len(gyponyms)):\n",
        "  #print(type(words[i]))\n",
        "  gyponyms[i] = gyponyms[i].lower()\n",
        "  #print(\"Hyperonym for \"+ str(words[i]) + \" :\" )\n",
        "  hyperonym_i = get_hyperonyms_fromDF(gyponyms[i], text_fromdf[i])\n",
        "  print(hypo_hyper_map[gyponyms[i]])\n",
        "  if hyperonym_i not in hypo_hyper_map[gyponyms[i]]:\n",
        "    hypo_hyper_map[gyponyms[i]].append(hyperonym_i)\n",
        "\n",
        "\n",
        "# for word_i in range(len(hypo_hyper_map)):\n",
        "#   #print(type(words[i]))\n",
        "#   #gyponyms[i] = gyponyms[i].lower()\n",
        "#   #print(\"Hyperonym for \"+ str(words[i]) + \" :\" )\n",
        "#   tmp = word_i\n",
        "#   for i in range(len(tmp)):\n",
        "\n",
        "#   hyperonym_i = get_hyperonyms_fromDF(gyponyms[i], text_fromdf[i])\n",
        "#   print(hypo_hyper_map[gyponyms[i]])\n",
        "#   if hyperonym_i not in hypo_hyper_map[gyponyms[i]]:\n",
        "#     hypo_hyper_map[gyponyms[i]].append(hyperonym_i)\n",
        "                                              \n",
        "#print(\"**************************\\n\")\n"
      ],
      "execution_count": 338,
      "outputs": [
        {
          "output_type": "stream",
          "text": [
            "{'надкостница': [], 'надкрылья': [], 'наигрыш': [], 'наколенник': [], 'наличник': [], 'намагниченность': [], 'наносекунда': [], 'наноструктура': [], 'напильник': [], 'наркотизация': [], 'нарукавник': [], 'наседка': [], 'наследодатель': [], 'насмешник': [], 'настурция': [], 'натуропат': [], 'научпоп': [], 'нацбол': [], 'наяда': [], 'неврастения': [], 'невропатия': [], 'невротик': [], 'недовыполнение': [], 'недонесение': []}\n",
            "Надкостница (периост) – ткань, окружающая кость снаружи.\n",
            "['надкостница', '–', 'ткань', ',', 'окружающая', 'кость']\n",
            "[]\n",
            "надкостница – оболочка кости, состоящая из плотной волокнистой соединительной ткани. (Словарь медицинских терминов)\n",
            "['надкостница', '–', 'оболочка', 'кости', ',', 'состоящая', 'из']\n",
            "[[['надкостница', '–', 'ткань', ',', 'окружающая', 'кость']]]\n",
            "Надкостница (периост) — соединительнотканная пленка, окружающая кость снаружи. \n",
            "['надкостница', '—', 'соединительнотканная', 'пленка', ',', 'окружающая', 'кость']\n",
            "[[['надкостница', '–', 'ткань', ',', 'окружающая', 'кость']], [['надкостница', '–', 'оболочка', 'кости', ',', 'состоящая', 'из']]]\n",
            "В состав кости как органа входят: собственно, костная ткань, надкостница, эндост, суставные хрящи, кровеносные сосуды и нервы. \n",
            "[[['надкостница', '–', 'ткань', ',', 'окружающая', 'кость']], [['надкостница', '–', 'оболочка', 'кости', ',', 'состоящая', 'из']], [['надкостница', '—', 'соединительнотканная', 'пленка', ',', 'окружающая', 'кость']]]\n",
            "Надкостница представляет собой плотную соединительнотканную пластинку, связанную с костью коллагеновыми волокнами.\n",
            "['надкостница', 'представляет', 'собой', 'плотную', 'соединительнотканную', 'пластинку']\n",
            "[[['надкостница', '–', 'ткань', ',', 'окружающая', 'кость']], [['надкостница', '–', 'оболочка', 'кости', ',', 'состоящая', 'из']], [['надкостница', '—', 'соединительнотканная', 'пленка', ',', 'окружающая', 'кость']], []]\n",
            "Надкрылья, или элитры (лат. elytrae) — передняя, видоизменённая пара крыльев у жуков и некоторых клопов, прикрывающая сложенные на спине задние крылья.\n",
            "[]\n",
            "крылья – придатки экзоскелета насекомых\n",
            "[[]]\n",
            "Крылья насекомых — придатки экзоскелета насекомых, которые используются ими для полёта.\n",
            "[[]]\n",
            "крыло насекомых — подвижная складка наружных покровов у летающих насекомых.\n",
            "[[]]\n",
            "Экзоскелет — внешний тип скелета у некоторых беспозвоночных животных.\n",
            "[[]]\n",
            "НАИГРЫШ – народная инструментальная мелодия\n",
            "['наигрыш', '–', 'народная', 'инструментальная', 'мелодия']\n",
            "[]\n",
            "НАИГРЫШ – Наигрываемая мелодия, мотив; акомпанемент\n",
            "['наигрыш', '–', 'наигрываемая', 'мелодия', ',', 'мотив']\n",
            "[[['наигрыш', '–', 'народная', 'инструментальная', 'мелодия']]]\n",
            "НАИГРЫШ – Наигрываемая мелодия, мотив; акомпанемент\n",
            "['наигрыш', '–', 'наигрываемая', 'мелодия', ',', 'мотив']\n",
            "[[['наигрыш', '–', 'народная', 'инструментальная', 'мелодия']], [['наигрыш', '–', 'наигрываемая', 'мелодия', ',', 'мотив']]]\n",
            "Под устным понимается художественное коллективное творчество народа, отражающее его жизнь, воззрения, идеалы, принципы; создаваемые народом и бытующие в народных массах народная музыка (песни, инструментальные наигрыши и пьесы)\n",
            "[[['наигрыш', '–', 'народная', 'инструментальная', 'мелодия']], [['наигрыш', '–', 'наигрываемая', 'мелодия', ',', 'мотив']]]\n",
            "Под устным понимается художественное коллективное творчество народа, отражающее его жизнь, воззрения, идеалы, принципы; создаваемые народом и бытующие в народных массах народная музыка (песни, инструментальные наигрыши и пьесы)\n",
            "[[['наигрыш', '–', 'народная', 'инструментальная', 'мелодия']], [['наигрыш', '–', 'наигрываемая', 'мелодия', ',', 'мотив']], []]\n",
            "Наколенник — элемент доспеха, предназначенный для защиты коленей.\n",
            "['наколенник', '—', 'элемент', 'доспеха', ',', 'предназначенный']\n",
            "[]\n",
            "НАКОЛЕННИК – повязка, накладка для защиты коленей \n",
            "['наколенник', '–', 'повязка', ',', 'накладка']\n",
            "[[['наколенник', '—', 'элемент', 'доспеха', ',', 'предназначенный']]]\n",
            "Наколенник – это спортивный и лечебный инвентарь, который предназначен для фиксации коленного сустава. \n",
            "['наколенник', '–', 'это', 'спортивный', 'и']\n",
            "[[['наколенник', '—', 'элемент', 'доспеха', ',', 'предназначенный']], [['наколенник', '–', 'повязка', ',', 'накладка']]]\n",
            "НАКОЛЕННИК – Накладка, повязка и т. п., надеваемая на колено для предохранения от ударов, ушибов, ожогов и т.\n",
            "['наколенник', '–', 'накладка', ',', 'повязка', 'и', 'т']\n",
            "[[['наколенник', '—', 'элемент', 'доспеха', ',', 'предназначенный']], [['наколенник', '–', 'повязка', ',', 'накладка']], [['наколенник', '–', 'это', 'спортивный', 'и']]]\n",
            "Haкoлeнник, – Haкoлeннaя нaклaдкa, щитoк, a тaкжe тёплaя пoвязкa.\n",
            "[[['наколенник', '—', 'элемент', 'доспеха', ',', 'предназначенный']], [['наколенник', '–', 'повязка', ',', 'накладка']], [['наколенник', '–', 'это', 'спортивный', 'и']], [['наколенник', '–', 'накладка', ',', 'повязка', 'и', 'т']]]\n",
            "НАЛИЧНИК – небольшой выступ, который устанавливается на оконном проеме, располагается вертикально\n",
            "['наличник', '–', 'небольшой', 'выступ', ',']\n",
            "[]\n",
            "Молдинги. К ним относят различные карнизы и короны, наличники на окнах, архитектурные уникальные подоконники.\n",
            "[[['наличник', '–', 'небольшой', 'выступ', ',']]]\n",
            "Для построек из сруба используется деревянный декор для фасада дома. В данном случае из дерева делаются различные украшения, например, наличники, карнизы, проемы для дверей/окон, ставни и так далее.\n",
            "[[['наличник', '–', 'небольшой', 'выступ', ',']], []]\n",
            "Наличник – традиционный элемент декора фасада\n",
            "['наличник', '–', 'традиционный', 'элемент', 'декора', 'фасада']\n",
            "[[['наличник', '–', 'небольшой', 'выступ', ',']], []]\n",
            "Наличник — деревянное или каменное декоративное обрамление оконного проема.\n",
            "['наличник', '—', 'деревянное']\n",
            "[[['наличник', '–', 'небольшой', 'выступ', ',']], [], [['наличник', '–', 'традиционный', 'элемент', 'декора', 'фасада']]]\n",
            "Намагниченность — это термин, используемый для описания магнитного поля, устанавливающегося в веществе вследствие его поляризации.\n",
            "['намагниченность', '—', 'это', 'термин', ',', 'используемый']\n",
            "[]\n",
            "Намагниченность — векторная физическая величина, характеризующая магнитное состояние макроскопического физического тела. \n",
            "['намагниченность', '—', 'векторная', 'физическая', 'величина']\n",
            "[[['намагниченность', '—', 'это', 'термин', ',', 'используемый']]]\n",
            "Намагниченность — это термин, используемый для описания магнитного поля, устанавливающегося в веществе вследствие его поляризации.\n",
            "['намагниченность', '—', 'это', 'термин', ',', 'используемый']\n",
            "[[['намагниченность', '—', 'это', 'термин', ',', 'используемый']], [['намагниченность', '—', 'векторная', 'физическая', 'величина']]]\n",
            "Намагниченность, характеристика магнитного состояния макроскопического физического тела;\n",
            "[[['намагниченность', '—', 'это', 'термин', ',', 'используемый']], [['намагниченность', '—', 'векторная', 'физическая', 'величина']]]\n",
            "НАМАГНИЧЕННОСТЬ (J) — свойство веществ, т.н., м-лов, определяемое магнитным моментом единицы объема и в общем случае характеризующее их способность к созданию магнитных полей.\n",
            "['намагниченность', '—', 'свойство', 'веществ', ',', 'т']\n",
            "[[['намагниченность', '—', 'это', 'термин', ',', 'используемый']], [['намагниченность', '—', 'векторная', 'физическая', 'величина']], []]\n",
            "Наносекунда (нс) — единица времени, равная одной миллиардной доле секунды\n",
            "['наносекунда', '—', 'единица', 'времени', ',']\n",
            "[]\n",
            "мера – средство измерений, предназначенное для воспроизведения и хранения физической величины\n",
            "[[['наносекунда', '—', 'единица', 'времени', ',']]]\n",
            "НАНОСЕКУНДА – единица измерения времени\n",
            "['наносекунда', '–', 'единица', 'измерения', 'времени']\n",
            "[[['наносекунда', '—', 'единица', 'времени', ',']], []]\n",
            "единица измерения – мера, величина для стандартизованного представления результатов измерений, изучается наукой метрологией \n",
            "[[['наносекунда', '—', 'единица', 'времени', ',']], [], [['наносекунда', '–', 'единица', 'измерения', 'времени']]]\n",
            "единица измерения – мера, величина для стандартизованного представления результатов измерений, изучается наукой метрологией \n",
            "[[['наносекунда', '—', 'единица', 'времени', ',']], [], [['наносекунда', '–', 'единица', 'измерения', 'времени']]]\n",
            "НАНОСТРУКТУРА – совокупность наноразмерных объектов искусственного или естественного происхождения \n",
            "['наноструктура', '–', 'совокупность', 'наноразмерных', 'объектов']\n",
            "[]\n",
            "совокупность – бъекты, выступающие вместе, как одно целое \n",
            "[[['наноструктура', '–', 'совокупность', 'наноразмерных', 'объектов']]]\n",
            "множество (совокупность объектов произвольной природы), отношение принадлежности элементов множествам, подмножество\n",
            "[[['наноструктура', '–', 'совокупность', 'наноразмерных', 'объектов']], []]\n",
            "множество – большое количество, изобилие \n",
            "[[['наноструктура', '–', 'совокупность', 'наноразмерных', 'объектов']], []]\n",
            "количество – степень выраженности качества у объектов, которую в математике отождествляют с величиной\n",
            "[[['наноструктура', '–', 'совокупность', 'наноразмерных', 'объектов']], []]\n",
            "НАПИЛЬНИК – многолезвийный инструмент для обработки металлов, дерева, пластмасс и других твердых материалов.\n",
            "['напильник', '–', 'многолезвийный', 'инструмент', 'для', 'обработки', 'металлов']\n",
            "[]\n",
            "Инструмент (лат. instrumentum — орудие) — предмет, устройство, механизм, машина или алгоритм, используемые для целевого воздействия на объект: его изменения или измерения в целях достижения полезного эффекта.\n",
            "[[['напильник', '–', 'многолезвийный', 'инструмент', 'для', 'обработки', 'металлов']]]\n",
            "Инструмент (лат. instrumentum — орудие) — предмет, устройство, механизм, машина или алгоритм, используемые для целевого воздействия на объект: его изменения или измерения в целях достижения полезного эффекта.\n",
            "[[['напильник', '–', 'многолезвийный', 'инструмент', 'для', 'обработки', 'металлов']], []]\n",
            "Инструмент (лат. instrumentum — орудие) — предмет, устройство, механизм, машина или алгоритм, используемые для целевого воздействия на объект: его изменения или измерения в целях достижения полезного эффекта.\n",
            "[[['напильник', '–', 'многолезвийный', 'инструмент', 'для', 'обработки', 'металлов']], []]\n",
            "Инструмент (лат. instrumentum — орудие) — предмет, устройство, механизм, машина или алгоритм, используемые для целевого воздействия на объект: его изменения или измерения в целях достижения полезного эффекта.\n",
            "[[['напильник', '–', 'многолезвийный', 'инструмент', 'для', 'обработки', 'металлов']], []]\n",
            "НАРКОТИЗАЦИЯ – действие по значению гл. наркотизировать; приведение в состояние наркоза \n",
            "['наркотизация', '–', 'действие', 'по', 'значению']\n",
            "[]\n",
            "приведение – действие по значению гл. приводить\n",
            "[[['наркотизация', '–', 'действие', 'по', 'значению']]]\n",
            "НАРКОТИЗАЦИЯ – попадание в зависимость от наркотиков, превращение в наркомана (наркоманов)\n",
            "['наркотизация', '–', 'попадание', 'в', 'зависимость', 'от', 'наркотиков']\n",
            "[[['наркотизация', '–', 'действие', 'по', 'значению']], []]\n",
            "Наркотизация – проблемное явление, характеризующее степень психологической готовности к принятию любого рода наркотических веществ.\n",
            "['наркотизация', '–', 'проблемное', 'явление', ',', 'характеризующее', 'степень']\n",
            "[[['наркотизация', '–', 'действие', 'по', 'значению']], [], [['наркотизация', '–', 'попадание', 'в', 'зависимость', 'от', 'наркотиков']]]\n",
            "НАРКОТИЗАЦИЯ – Приведение в бесчувственное состояние, усыпление\n",
            "['наркотизация', '–', 'приведение', 'в', 'бесчувственное', 'состояние']\n",
            "[[['наркотизация', '–', 'действие', 'по', 'значению']], [], [['наркотизация', '–', 'попадание', 'в', 'зависимость', 'от', 'наркотиков']], [['наркотизация', '–', 'проблемное', 'явление', ',', 'характеризующее', 'степень']]]\n",
            "Нарукавник — тканевые или клеенчатые чехлы-полурукава, надеваемые поверх рукавов одежды с целью их защиты от загрязнения\n",
            "['нарукавник', '—', 'тканевые']\n",
            "[]\n",
            "НАРУКАВНИК – рукав или полурукав, отдельно надуваемый сверху, для сбереженья одежды; писцы, в купецких конторах, надевают нарукавники.\n",
            "['нарукавник', '–', 'рукав']\n",
            "[[['нарукавник', '—', 'тканевые']]]\n",
            "НАРУКАВНИК – Особый, надеваемый сверху полурукав, предохраняющий одежду во время работы.\n",
            "['нарукавник', '–', 'особый', ',', 'надеваемый']\n",
            "[[['нарукавник', '—', 'тканевые']], [['нарукавник', '–', 'рукав']]]\n",
            "Рукав — деталь одежды, покрывающая всю руку или часть руки.\n",
            "[[['нарукавник', '—', 'тканевые']], [['нарукавник', '–', 'рукав']], [['нарукавник', '–', 'особый', ',', 'надеваемый']]]\n",
            "рукав – часть одежды, покрывающая руку (от плеча до кисти или короче) \n",
            "[[['нарукавник', '—', 'тканевые']], [['нарукавник', '–', 'рукав']], [['нарукавник', '–', 'особый', ',', 'надеваемый']], []]\n",
            "Наседка — птица, высиживающая яйца.\n",
            "['наседка', '—', 'птица', ',', 'высиживающая', 'яйца']\n",
            "[]\n",
            "НАСЕДКА – курица, высиживающая или водящая цыплят \n",
            "['наседка', '–', 'курица', ',', 'высиживающая']\n",
            "[[['наседка', '—', 'птица', ',', 'высиживающая', 'яйца']]]\n",
            "птица -теплокровное позвоночное пернатое животное, обладающее верхними конечностями в виде крыльев\n",
            "[[['наседка', '—', 'птица', ',', 'высиживающая', 'яйца']], [['наседка', '–', 'курица', ',', 'высиживающая']]]\n",
            "животное – представитель фауны, живой организм из царства Animalia, обычно отличаемый от представителей царства растений (Plantae), питающийся готовыми органическими соединениями и способный активно передвигаться \n",
            "[[['наседка', '—', 'птица', ',', 'высиживающая', 'яйца']], [['наседка', '–', 'курица', ',', 'высиживающая']], []]\n",
            "животное – представитель фауны, живой организм из царства Animalia, обычно отличаемый от представителей царства растений (Plantae), питающийся готовыми органическими соединениями и способный активно передвигаться \n",
            "[[['наседка', '—', 'птица', ',', 'высиживающая', 'яйца']], [['наседка', '–', 'курица', ',', 'высиживающая']], []]\n",
            "НАСЛЕДОДАТЕЛЬ – лицо, передающее наследство кому-либо\n",
            "['наследодатель', '–', 'лицо', ',', 'передающее', 'наследство', 'кому']\n",
            "[]\n",
            "Наследодатель — (англ. testator) завещавший свое имущество кому либо или умерший, чье имущество переходит к его наследникам по завещанию или по закону \n",
            "['наследодатель', '—', 'завещавший', 'свое', 'имущество', 'кому']\n",
            "[[['наследодатель', '–', 'лицо', ',', 'передающее', 'наследство', 'кому']]]\n",
            "лицо – офиц. особа, человек \n",
            "[[['наследодатель', '–', 'лицо', ',', 'передающее', 'наследство', 'кому']], [['наследодатель', '—', 'завещавший', 'свое', 'имущество', 'кому']]]\n",
            "особа – личность\n",
            "[[['наследодатель', '–', 'лицо', ',', 'передающее', 'наследство', 'кому']], [['наследодатель', '—', 'завещавший', 'свое', 'имущество', 'кому']], []]\n",
            "личность – человек, индивидуум как субъект социальных отношений и сознательной созидательной деятельности;\n",
            "[[['наследодатель', '–', 'лицо', ',', 'передающее', 'наследство', 'кому']], [['наследодатель', '—', 'завещавший', 'свое', 'имущество', 'кому']], []]\n",
            "НАСМЕШНИК – насмешливый, любящий насмехаться человек \n",
            "['насмешник', '–', 'насмешливый', ',', 'любящий']\n",
            "[]\n",
            "человек – представитель млекопитающих рода Homo отряда приматов;\n",
            "[[['насмешник', '–', 'насмешливый', ',', 'любящий']]]\n",
            "человек – представитель млекопитающих рода Homo отряда приматов;\n",
            "[[['насмешник', '–', 'насмешливый', ',', 'любящий']], []]\n",
            "примат – представитель инфракласса плацентарных млекопитающих\n",
            "[[['насмешник', '–', 'насмешливый', ',', 'любящий']], []]\n",
            "млекопитающее – представитель высшего класса позвоночных животных, выкармливающих своих детёнышей грудным молоком\n",
            "[[['насмешник', '–', 'насмешливый', ',', 'любящий']], []]\n",
            "Настурция (лат. Tropaéolum) — род травянистых растений семейства Настурциевые, включающее в себя около 90 видов родом из Центральной и Южной Америки.\n",
            "['настурция', '—', 'род', 'травянистых', 'растений', 'семейства']\n",
            "[]\n",
            "Настурциевые (лат. Tropaeolaceae) — семейство двудольных растений, входящее в порядок Капустоцветные,\n",
            "[[['настурция', '—', 'род', 'травянистых', 'растений', 'семейства']]]\n",
            "Капустоцветные — порядок двудольных растений.\n",
            "[[['настурция', '—', 'род', 'травянистых', 'растений', 'семейства']], []]\n",
            "Двудольные (устар. варианты: двусемядольные, дву­семяно­дольные) — класс покрытосеменных растений, у которых зародыш семени имеет две боковые супротивные семядоли.\n",
            "[[['настурция', '—', 'род', 'травянистых', 'растений', 'семейства']], []]\n",
            "травы, — жизненная форма высших растений\n",
            "[[['настурция', '—', 'род', 'травянистых', 'растений', 'семейства']], []]\n",
            "Натуропат – представитель нетрадиционной медицины, объединяющей в себе более 20 направлений, выполняющий лечение пациентов с помощью естественных природных средств, голодания.\n",
            "['натуропат', '–', 'представитель', 'нетрадиционной', 'медицины']\n",
            "[]\n",
            "Врач, лечащий естественными (не создаваемыми синтетически) лекарственными средствами: на-стоями и отварами трав, цветочной пыльцой и т.п.\n",
            "[[['натуропат', '–', 'представитель', 'нетрадиционной', 'медицины']]]\n",
            "Врач — человек, использующий свои навыки, знания и опыт в предупреждении и лечении заболеваний, поддержании нормальной жизнедеятельности организма человека. \n",
            "[[['натуропат', '–', 'представитель', 'нетрадиционной', 'медицины']], []]\n",
            "Врач – медик, специалист по лечению людей \n",
            "[[['натуропат', '–', 'представитель', 'нетрадиционной', 'медицины']], []]\n",
            "Врач – медик, специалист по лечению людей \n",
            "[[['натуропат', '–', 'представитель', 'нетрадиционной', 'медицины']], []]\n",
            "НАУЧПОП – научно-популярные произведения литературы, публицистики, кино\n",
            "['научпоп', '–', 'научно', '-', 'популярные', 'произведения', 'литературы']\n",
            "[]\n",
            "произведение – результат такого действия; создание, творение\n",
            "[[['научпоп', '–', 'научно', '-', 'популярные', 'произведения', 'литературы']]]\n",
            "создание – действие по значению гл. создавать;\n",
            "[[['научпоп', '–', 'научно', '-', 'популярные', 'произведения', 'литературы']], []]\n",
            "произведение – результат такого действия; создание, творение\n",
            "[[['научпоп', '–', 'научно', '-', 'популярные', 'произведения', 'литературы']], []]\n",
            "Творчество — процесс деятельности, создающий качественно новые материалы и духовные ценности или итог создания объективно нового.\n",
            "[[['научпоп', '–', 'научно', '-', 'популярные', 'произведения', 'литературы']], []]\n",
            "НАЦБОЛ – сторонник национал-большевизма \n",
            "['нацбол', '–', 'сторонник', 'национал', '-', 'большевизма']\n",
            "[]\n",
            "Нацболы: Национал-большевики — лица, придерживающиеся национал-большевистской идеологии.\n",
            "[[['нацбол', '–', 'сторонник', 'национал', '-', 'большевизма']]]\n",
            "сторонник – человек стоящий на стороне кого-либо, чего-либо \n",
            "[[['нацбол', '–', 'сторонник', 'национал', '-', 'большевизма']], []]\n",
            "человек вообще, человек, как отдельный индивидуум\n",
            "[[['нацбол', '–', 'сторонник', 'национал', '-', 'большевизма']], []]\n",
            "индивидуум – отдельная личность\n",
            "[[['нацбол', '–', 'сторонник', 'национал', '-', 'большевизма']], []]\n",
            "Наяда (др.-греч. Ναϊάς) — внутренний спутник планеты Нептун. \n",
            "['наяда', '—', 'внутренний', 'спутник', 'планеты', 'нептун']\n",
            "[]\n",
            "Спутник — небесное тело, обращающееся по определённой траектории (орбите) вокруг другого объекта в космическом пространстве под действием гравитации.\n",
            "[[['наяда', '—', 'внутренний', 'спутник', 'планеты', 'нептун']]]\n",
            "Небесное тело — естественное физическое тело, ассоциация, или структура, которую современная наука определяет как расположенную в наблюдаемой Вселенной\n",
            "[[['наяда', '—', 'внутренний', 'спутник', 'планеты', 'нептун']], []]\n",
            "тело – отдельный предмет в пространстве, а также часть пространства, ограниченная замкнутой поверхностью и обычно заполненная материей \n",
            "[[['наяда', '—', 'внутренний', 'спутник', 'планеты', 'нептун']], []]\n",
            " небесное тело – материальный объект, естественным образом сформировавшийся в космическом пространстве, изучаемый астрономией \n",
            "[[['наяда', '—', 'внутренний', 'спутник', 'планеты', 'нептун']], []]\n",
            "Неврастения — психическое расстройство из группы неврозов, проявляющееся в повышенной раздражительности, утомляемости, утрате способности к длительному умственному и физическому напряжению.\n",
            "['неврастения', '—', 'психическое', 'расстройство', 'из', 'группы', 'неврозов']\n",
            "[]\n",
            "Неврастения — психическое расстройство из группы неврозов, проявляющееся в повышенной раздражительности, утомляемости, утрате способности к длительному умственному и физическому напряжению.\n",
            "['неврастения', '—', 'психическое', 'расстройство', 'из', 'группы', 'неврозов']\n",
            "[[['неврастения', '—', 'психическое', 'расстройство', 'из', 'группы', 'неврозов']]]\n",
            " расстройство – заболевание, вследствие которого перестает нормально функционировать какой-либо орган;\n",
            "[[['неврастения', '—', 'психическое', 'расстройство', 'из', 'группы', 'неврозов']]]\n",
            "заболевание – болезнь, нарушение функционирования организма, серьёзное ухудшение здоровья \n",
            "[[['неврастения', '—', 'психическое', 'расстройство', 'из', 'группы', 'неврозов']], []]\n",
            "ухудшение – переход от более благоприятного состояния к менее благоприятному \n",
            "[[['неврастения', '—', 'психическое', 'расстройство', 'из', 'группы', 'неврозов']], []]\n",
            "НЕВРОПАТИЯ – нервное заболевание без постоянных патолого-анатомических изменений\n",
            "['невропатия', '–', 'нервное', 'заболевание', 'без', 'постоянных', 'патолого']\n",
            "[]\n",
            "заболевание – болезнь, нарушение функционирования организма, серьёзное ухудшение здоровья \n",
            "[[['невропатия', '–', 'нервное', 'заболевание', 'без', 'постоянных', 'патолого']]]\n",
            "невропатия –  конституционально обусловленное состояние повышенной возбудимости нервной системы в сочетании с ее повышенной истощаемостью;\n",
            "['невропатия', '–', 'конституционально', 'обусловленное', 'состояние']\n",
            "[[['невропатия', '–', 'нервное', 'заболевание', 'без', 'постоянных', 'патолого']], []]\n",
            "НЕВРОПАТИЯ – Врожденное нарушение (повышение) возбудимости вегетативной нервной системы. \n",
            "['невропатия', '–', 'врожденное', 'нарушение', 'возбудимости', 'вегетативной', 'нервной', 'системы']\n",
            "[[['невропатия', '–', 'нервное', 'заболевание', 'без', 'постоянных', 'патолого']], [], [['невропатия', '–', 'конституционально', 'обусловленное', 'состояние']]]\n",
            "НЕВРОПАТИЯ – болезни нервной системы\n",
            "['невропатия', '–', 'болезни', 'нервной', 'системы']\n",
            "[[['невропатия', '–', 'нервное', 'заболевание', 'без', 'постоянных', 'патолого']], [], [['невропатия', '–', 'конституционально', 'обусловленное', 'состояние']], [['невропатия', '–', 'врожденное', 'нарушение', 'возбудимости', 'вегетативной', 'нервной', 'системы']]]\n",
            "НЕВРОТИК – Больной неврозом.\n",
            "['невротик', '–', 'больной', 'неврозом']\n",
            "[]\n",
            " невротик – человек, страдающий неврозом\n",
            "['невротик', '–', 'человек', ',', 'страдающий', 'неврозом']\n",
            "[[['невротик', '–', 'больной', 'неврозом']]]\n",
            "человек – представитель млекопитающих рода Homo отряда приматов; \n",
            "[[['невротик', '–', 'больной', 'неврозом']], [['невротик', '–', 'человек', ',', 'страдающий', 'неврозом']]]\n",
            "примат – представитель инфракласса плацентарных млекопитающих\n",
            "[[['невротик', '–', 'больной', 'неврозом']], [['невротик', '–', 'человек', ',', 'страдающий', 'неврозом']], []]\n",
            "млекопитающее – представитель фауны, живой организм из царства Animalia, обычно отличаемый от представителей царства растений (Plantae), питающийся готовыми органическими соединениями и способный активно передвигаться \n",
            "[[['невротик', '–', 'больной', 'неврозом']], [['невротик', '–', 'человек', ',', 'страдающий', 'неврозом']], []]\n",
            "НЕДОВЫПОЛНЕНИЕ – действие по значению гл. недовыполнять, недовыполнить, выполнять что-либо не в полной мере, менее запланированного\n",
            "['недовыполнение', '–', 'действие', 'по', 'значению']\n",
            "[]\n",
            "НЕДОВЫПОЛНЕНИЕ – Процесс действия по знач. глаг.: недовыполнить.\n",
            "['недовыполнение', '–', 'процесс', 'действия', 'по', 'знач']\n",
            "[[['недовыполнение', '–', 'действие', 'по', 'значению']]]\n",
            "НЕДОВЫПОЛНЕНИЕ – Недовыполненная часть чего-л.\n",
            "['недовыполнение', '–', 'недовыполненная', 'часть', 'чего', '-', 'л']\n",
            "[[['недовыполнение', '–', 'действие', 'по', 'значению']], [['недовыполнение', '–', 'процесс', 'действия', 'по', 'знач']]]\n",
            "действие – результат проявления деятельности чего-нибудь, влияние, воздействие\n",
            "[[['недовыполнение', '–', 'действие', 'по', 'значению']], [['недовыполнение', '–', 'процесс', 'действия', 'по', 'знач']], [['недовыполнение', '–', 'недовыполненная', 'часть', 'чего', '-', 'л']]]\n",
            "процесс – ход, развитие \n",
            "[[['недовыполнение', '–', 'действие', 'по', 'значению']], [['недовыполнение', '–', 'процесс', 'действия', 'по', 'знач']], [['недовыполнение', '–', 'недовыполненная', 'часть', 'чего', '-', 'л']], []]\n",
            "НЕДОНЕСЕНИЕ – несообщение органам власти о достоверно известном совершённом или готовящемся преступлении \n",
            "['недонесение', '–', 'несообщение', 'органам', 'власти', 'о']\n",
            "[]\n",
            "Основными видами прикосновенности к преступлению, являются: … 2) Недонесение о достоверно известном готовящемся или совершенном преступлении.\n",
            "[[['недонесение', '–', 'несообщение', 'органам', 'власти', 'о']]]\n",
            "Прикосновенность к преступлению — это умышленная об­щественно опасная деятельность, возникающая в связи с пре­ступным действием другого лица и препятствующая изобличе­нию преступника.\n",
            "[[['недонесение', '–', 'несообщение', 'органам', 'власти', 'о']], []]\n",
            "Недонесение о преступлении заключается в умышленном бездействии\n",
            "[[['недонесение', '–', 'несообщение', 'органам', 'власти', 'о']], []]\n",
            "бездействие – правонарушение, состоящее в несовершении общественно полезного действия в момент, когда того требовал закон\n",
            "[[['недонесение', '–', 'несообщение', 'органам', 'власти', 'о']], []]\n"
          ],
          "name": "stdout"
        }
      ]
    },
    {
      "cell_type": "code",
      "metadata": {
        "id": "j3mwH8Kikbq9",
        "colab_type": "code",
        "outputId": "e6ccbf28-c159-4972-a799-c447ccff456e",
        "colab": {
          "base_uri": "https://localhost:8080/",
          "height": 496
        }
      },
      "source": [
        "print(\"Гипонимы - гиперонимы:\\n\")\n",
        "cnt = 0\n",
        "for word in hypo_hyper_map:\n",
        "  cnt += 1+ len(hypo_hyper_map[word])\n",
        "  print(word.upper() + '-' + str(hypo_hyper_map[word]))\n",
        "\n",
        "print(\"Всего гиперонимов - \" + str(cnt))  "
      ],
      "execution_count": 339,
      "outputs": [
        {
          "output_type": "stream",
          "text": [
            "Гипонимы - гиперонимы:\n",
            "\n",
            "НАДКОСТНИЦА-[[['надкостница', '–', 'ткань', ',', 'окружающая', 'кость']], [['надкостница', '–', 'оболочка', 'кости', ',', 'состоящая', 'из']], [['надкостница', '—', 'соединительнотканная', 'пленка', ',', 'окружающая', 'кость']], [], [['надкостница', 'представляет', 'собой', 'плотную', 'соединительнотканную', 'пластинку']]]\n",
            "НАДКРЫЛЬЯ-[[]]\n",
            "НАИГРЫШ-[[['наигрыш', '–', 'народная', 'инструментальная', 'мелодия']], [['наигрыш', '–', 'наигрываемая', 'мелодия', ',', 'мотив']], []]\n",
            "НАКОЛЕННИК-[[['наколенник', '—', 'элемент', 'доспеха', ',', 'предназначенный']], [['наколенник', '–', 'повязка', ',', 'накладка']], [['наколенник', '–', 'это', 'спортивный', 'и']], [['наколенник', '–', 'накладка', ',', 'повязка', 'и', 'т']], []]\n",
            "НАЛИЧНИК-[[['наличник', '–', 'небольшой', 'выступ', ',']], [], [['наличник', '–', 'традиционный', 'элемент', 'декора', 'фасада']], [['наличник', '—', 'деревянное']]]\n",
            "НАМАГНИЧЕННОСТЬ-[[['намагниченность', '—', 'это', 'термин', ',', 'используемый']], [['намагниченность', '—', 'векторная', 'физическая', 'величина']], [], [['намагниченность', '—', 'свойство', 'веществ', ',', 'т']]]\n",
            "НАНОСЕКУНДА-[[['наносекунда', '—', 'единица', 'времени', ',']], [], [['наносекунда', '–', 'единица', 'измерения', 'времени']]]\n",
            "НАНОСТРУКТУРА-[[['наноструктура', '–', 'совокупность', 'наноразмерных', 'объектов']], []]\n",
            "НАПИЛЬНИК-[[['напильник', '–', 'многолезвийный', 'инструмент', 'для', 'обработки', 'металлов']], []]\n",
            "НАРКОТИЗАЦИЯ-[[['наркотизация', '–', 'действие', 'по', 'значению']], [], [['наркотизация', '–', 'попадание', 'в', 'зависимость', 'от', 'наркотиков']], [['наркотизация', '–', 'проблемное', 'явление', ',', 'характеризующее', 'степень']], [['наркотизация', '–', 'приведение', 'в', 'бесчувственное', 'состояние']]]\n",
            "НАРУКАВНИК-[[['нарукавник', '—', 'тканевые']], [['нарукавник', '–', 'рукав']], [['нарукавник', '–', 'особый', ',', 'надеваемый']], []]\n",
            "НАСЕДКА-[[['наседка', '—', 'птица', ',', 'высиживающая', 'яйца']], [['наседка', '–', 'курица', ',', 'высиживающая']], []]\n",
            "НАСЛЕДОДАТЕЛЬ-[[['наследодатель', '–', 'лицо', ',', 'передающее', 'наследство', 'кому']], [['наследодатель', '—', 'завещавший', 'свое', 'имущество', 'кому']], []]\n",
            "НАСМЕШНИК-[[['насмешник', '–', 'насмешливый', ',', 'любящий']], []]\n",
            "НАСТУРЦИЯ-[[['настурция', '—', 'род', 'травянистых', 'растений', 'семейства']], []]\n",
            "НАТУРОПАТ-[[['натуропат', '–', 'представитель', 'нетрадиционной', 'медицины']], []]\n",
            "НАУЧПОП-[[['научпоп', '–', 'научно', '-', 'популярные', 'произведения', 'литературы']], []]\n",
            "НАЦБОЛ-[[['нацбол', '–', 'сторонник', 'национал', '-', 'большевизма']], []]\n",
            "НАЯДА-[[['наяда', '—', 'внутренний', 'спутник', 'планеты', 'нептун']], []]\n",
            "НЕВРАСТЕНИЯ-[[['неврастения', '—', 'психическое', 'расстройство', 'из', 'группы', 'неврозов']], []]\n",
            "НЕВРОПАТИЯ-[[['невропатия', '–', 'нервное', 'заболевание', 'без', 'постоянных', 'патолого']], [], [['невропатия', '–', 'конституционально', 'обусловленное', 'состояние']], [['невропатия', '–', 'врожденное', 'нарушение', 'возбудимости', 'вегетативной', 'нервной', 'системы']], [['невропатия', '–', 'болезни', 'нервной', 'системы']]]\n",
            "НЕВРОТИК-[[['невротик', '–', 'больной', 'неврозом']], [['невротик', '–', 'человек', ',', 'страдающий', 'неврозом']], []]\n",
            "НЕДОВЫПОЛНЕНИЕ-[[['недовыполнение', '–', 'действие', 'по', 'значению']], [['недовыполнение', '–', 'процесс', 'действия', 'по', 'знач']], [['недовыполнение', '–', 'недовыполненная', 'часть', 'чего', '-', 'л']], []]\n",
            "НЕДОНЕСЕНИЕ-[[['недонесение', '–', 'несообщение', 'органам', 'власти', 'о']], []]\n",
            "Всего гиперонимов - 96\n"
          ],
          "name": "stdout"
        }
      ]
    },
    {
      "cell_type": "code",
      "metadata": {
        "id": "AHTJl5f-kboa",
        "colab_type": "code",
        "outputId": "4b98282c-520f-489f-a686-6a0d77d4125b",
        "colab": {
          "base_uri": "https://localhost:8080/",
          "height": 51
        }
      },
      "source": [
        "s0 = \"иога - хороший спорт\"\n",
        "s = list(s0)\n",
        "print(s)\n",
        "#['H', 'e', 'l', 'l', 'o', ' ', 'z', 'o', 'r', 'l', 'd']\n",
        "s[0] = 'й'\n",
        "s\n",
        "#['H', 'e', 'l', 'l', 'o', ' ', 'W', 'o', 'r', 'l', 'd']\n",
        "s = \"\".join(s)\n",
        "print(s)"
      ],
      "execution_count": 0,
      "outputs": [
        {
          "output_type": "stream",
          "text": [
            "['и', 'о', 'г', 'а', ' ', '-', ' ', 'х', 'о', 'р', 'о', 'ш', 'и', 'й', ' ', 'с', 'п', 'о', 'р', 'т']\n",
            "йога - хороший спорт\n"
          ],
          "name": "stdout"
        }
      ]
    },
    {
      "cell_type": "markdown",
      "metadata": {
        "id": "fqTFM95gi_u2",
        "colab_type": "text"
      },
      "source": [
        "#### Task 1 (deadline 19.02.2020 24:00)\n",
        "* Find your name on the spreadsheet https://docs.google.com/spreadsheets/d/1RR2I6toCkebbGU1UK83HS70Ru_l0_o-nnZIHyiFB0No/edit?usp=sharing. In opposite of your name there are 24 words of hyponyms, you have to insert five corresponding hypernyms next to them. Examples of hyponyms and hyperonyms relationship you can find above in the current Jupiter notebook.\n",
        "* Find for each pair of hyponyms and hypernyms a corresponding snippet of a text with their mentions. The source of the text can be any free resources, e.g., Wikipedia, Google, Yandex, others. You should save the snippets and their URLs within the lab2 folder in your NLP git-repo with .csv file-extension in a single file.\n",
        "\n",
        "#### Task 2 (deadline 26.02.2020 24:00)\n",
        "* It would be best if you created a pandas DataFrame of the texts from the previous task. And apply to the DataFrame the function 'get_hyperonyms,' which must return the list of the corresponding hypernyms from the text automatically. If there are errors or misses, you should fix them in the code for your case of the 24 words. Nevertheless, it is strictly prohibited to use hard coding. Save your notebook with parser code within the lab2 folder in your NLP git-repo."
      ]
    },
    {
      "cell_type": "code",
      "metadata": {
        "id": "BPmQGvX_i_u3",
        "colab_type": "code",
        "colab": {}
      },
      "source": [
        ""
      ],
      "execution_count": 0,
      "outputs": []
    }
  ]
}